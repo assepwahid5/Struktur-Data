{
  "nbformat": 4,
  "nbformat_minor": 0,
  "metadata": {
    "colab": {
      "provenance": [],
      "authorship_tag": "ABX9TyPnDwhanpB1tyCD19PldvDI",
      "include_colab_link": true
    },
    "kernelspec": {
      "name": "python3",
      "display_name": "Python 3"
    },
    "language_info": {
      "name": "python"
    }
  },
  "cells": [
    {
      "cell_type": "markdown",
      "metadata": {
        "id": "view-in-github",
        "colab_type": "text"
      },
      "source": [
        "<a href=\"https://colab.research.google.com/github/assepwahid5/Struktur-Data/blob/main/2420506028_Strukdat_Graph.ipynb\" target=\"_parent\"><img src=\"https://colab.research.google.com/assets/colab-badge.svg\" alt=\"Open In Colab\"/></a>"
      ]
    },
    {
      "cell_type": "code",
      "execution_count": null,
      "metadata": {
        "colab": {
          "base_uri": "https://localhost:8080/"
        },
        "id": "UdOqOByDR6jl",
        "outputId": "66aa3edf-2bbc-4630-b51a-4a5f56c91d0a"
      },
      "outputs": [
        {
          "output_type": "stream",
          "name": "stdout",
          "text": [
            "A -> ['B', 'C']\n",
            "B -> ['A', 'D', 'E']\n",
            "C -> ['A', 'F']\n",
            "D -> ['B']\n",
            "E -> ['B', 'F']\n",
            "F -> ['C', 'E']\n"
          ]
        }
      ],
      "source": [
        "# Representasi Graf dengan Adjacency List\n",
        "# membuat graf tak berarah menggunakan adjacency list\n",
        "graph = {\n",
        "    'A' : ['B','C'],\n",
        "    'B' : ['A','D','E'],\n",
        "    'C' : ['A','F'],\n",
        "    'D' : ['B'],\n",
        "    'E' : ['B','F'],\n",
        "    'F' : ['C','E']\n",
        "}\n",
        "\n",
        "# Menampilkan graf\n",
        "def print_graph(graf):\n",
        "  for node in graf:\n",
        "    print(f\"{node} -> {graf[node]}\")\n",
        "print_graph(graph)"
      ]
    },
    {
      "cell_type": "code",
      "source": [
        "# Traversal Graf menggunakan BFS\n",
        "from collections import deque\n",
        "\n",
        "def bfs(graph, start):\n",
        "  visited = set()\n",
        "  queue = deque([start])\n",
        "\n",
        "  while queue:\n",
        "    vertex = queue.popleft()\n",
        "    if vertex not in visited :\n",
        "      print(vertex, end=\" \")\n",
        "      visited.add(vertex)\n",
        "      queue.extend([neighbor for neighbor in graph[vertex] if neighbor not in visited])\n",
        "# contoh pemanggilan\n",
        "bfs(graph, 'A')"
      ],
      "metadata": {
        "colab": {
          "base_uri": "https://localhost:8080/"
        },
        "id": "geCk3s2JWEK3",
        "outputId": "5bb223e5-e372-48e8-e2b9-b1185ecf7289"
      },
      "execution_count": null,
      "outputs": [
        {
          "output_type": "stream",
          "name": "stdout",
          "text": [
            "A B C D E F "
          ]
        }
      ]
    },
    {
      "cell_type": "code",
      "source": [
        "# Traversal Graf menggunakan DFS\n",
        "def dfs(graph, start , visited = None):\n",
        "  if visited is None:\n",
        "    visited = set()\n",
        "\n",
        "  if start not in visited:\n",
        "    print(start, end=\" \")\n",
        "    visited.add(start)\n",
        "    for neighbor in graph[start]:\n",
        "      dfs(graph, neighbor, visited)\n",
        "# Contoh pemanggilan\n",
        "dfs(graph,'A')"
      ],
      "metadata": {
        "colab": {
          "base_uri": "https://localhost:8080/"
        },
        "id": "FcAcKHVGYj5n",
        "outputId": "f1858bd8-cf66-4478-8f03-626d13e285e8"
      },
      "execution_count": null,
      "outputs": [
        {
          "output_type": "stream",
          "name": "stdout",
          "text": [
            "A B D E F C "
          ]
        }
      ]
    }
  ]
}