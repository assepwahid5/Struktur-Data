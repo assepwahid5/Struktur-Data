{
  "nbformat": 4,
  "nbformat_minor": 0,
  "metadata": {
    "colab": {
      "provenance": [],
      "authorship_tag": "ABX9TyM7f2RDwUjSMxvR1H0XqD4S",
      "include_colab_link": true
    },
    "kernelspec": {
      "name": "python3",
      "display_name": "Python 3"
    },
    "language_info": {
      "name": "python"
    }
  },
  "cells": [
    {
      "cell_type": "markdown",
      "metadata": {
        "id": "view-in-github",
        "colab_type": "text"
      },
      "source": [
        "<a href=\"https://colab.research.google.com/github/assepwahid5/Struktur-Data/blob/main/2420506028_Strukdat_Sorting.ipynb\" target=\"_parent\"><img src=\"https://colab.research.google.com/assets/colab-badge.svg\" alt=\"Open In Colab\"/></a>"
      ]
    },
    {
      "cell_type": "code",
      "execution_count": null,
      "metadata": {
        "colab": {
          "base_uri": "https://localhost:8080/"
        },
        "id": "NXoW7PIaqpwK",
        "outputId": "2d09755b-205c-4355-8323-9b8a20ae5713"
      },
      "outputs": [
        {
          "output_type": "stream",
          "name": "stdout",
          "text": [
            "data sebelum sorting :  [64, 34, 25, 12, 22, 11, 90]\n",
            "data setelah sorting :  [11, 12, 22, 25, 34, 64, 90]\n"
          ]
        }
      ],
      "source": [
        "# Implementasi Bubble Sort\n",
        "def bubble_sort(arr):\n",
        "  n = len(arr)\n",
        "  for i in range(n - 1):\n",
        "    for j in range(n - i - 1):\n",
        "      if arr[j] > arr[ j + 1]:\n",
        "        arr[j], arr[ j + 1] = arr[j + 1],arr[j]\n",
        "  return arr\n",
        "# contoh penggunaan\n",
        "data = [64,34,25,12,22,11,90]\n",
        "sorted_data = bubble_sort(data.copy()) # menggunakan copy agar data asli tidak berubah\n",
        "print(\"data sebelum sorting : \",data)\n",
        "print(\"data setelah sorting : \", sorted_data)"
      ]
    },
    {
      "cell_type": "code",
      "source": [
        "# Implementasi Selection Sort\n",
        "def selection_sort(arr):\n",
        "  n = len(arr)\n",
        "  for i in range(n - 1):\n",
        "    min_index = i\n",
        "    for j in range(i + 1,n):\n",
        "      if arr[j] < arr[min_index]:\n",
        "        min_index = j\n",
        "    arr[i], arr[min_index] = arr[min_index],arr[i]\n",
        "  return arr\n",
        "\n",
        "# Contoh Penggunaan\n",
        "data = [64,25,12,22,11]\n",
        "sorted_data = selection_sort(data.copy())\n",
        "print(\"data sebelum sorting : \",data)\n",
        "print(\"data setelah selection sort :\",sorted_data)"
      ],
      "metadata": {
        "colab": {
          "base_uri": "https://localhost:8080/"
        },
        "id": "JJWo3HQRvAG-",
        "outputId": "1e6a816e-9b33-4f4f-9b98-3880722add8a"
      },
      "execution_count": null,
      "outputs": [
        {
          "output_type": "stream",
          "name": "stdout",
          "text": [
            "data sebelum sorting :  [64, 25, 12, 22, 11]\n",
            "data setelah selection sort : [11, 12, 22, 25, 64]\n"
          ]
        }
      ]
    },
    {
      "cell_type": "code",
      "source": [
        "def insertion_sort(arr):\n",
        "  n = len(arr)\n",
        "  for i in range(1,n):\n",
        "    key = arr[i]\n",
        "    j = i - 1\n",
        "    while j >= 0 and arr[j] > key:\n",
        "      arr[j + 1] = arr[j]\n",
        "      j -= 1\n",
        "    arr[j + 1] = key\n",
        "  return arr\n",
        "\n",
        "# contoh penggunaan\n",
        "data = [64,34,25,12,22,11,90]\n",
        "sorted_data = insertion_sort(data.copy())\n",
        "print(\"data sebelum sorting : \", data)\n",
        "print(\"data setelah insertion sort : \", sorted_data)"
      ],
      "metadata": {
        "colab": {
          "base_uri": "https://localhost:8080/"
        },
        "id": "GiwzZsDOw5CR",
        "outputId": "dce845e4-6dbc-40dd-9421-7bfc51854ea7"
      },
      "execution_count": null,
      "outputs": [
        {
          "output_type": "stream",
          "name": "stdout",
          "text": [
            "data sebelum sorting :  [64, 34, 25, 12, 22, 11, 90]\n",
            "data setelah insertion sort :  [11, 12, 22, 25, 34, 64, 90]\n"
          ]
        }
      ]
    },
    {
      "cell_type": "code",
      "source": [
        "def merge_sort(arr):\n",
        "  if len(arr) > 1:\n",
        "    mid = len(arr) // 2\n",
        "    left_half = arr[:mid]\n",
        "    right_half = arr[mid:]\n",
        "\n",
        "    merge_sort(left_half)\n",
        "    merge_sort(right_half)\n",
        "\n",
        "    i = j = k = 0\n",
        "\n",
        "    while i < len(left_half) and j < len(right_half):\n",
        "      if left_half[i] < right_half[j]:\n",
        "        arr[k] = left_half[i]\n",
        "        i += 1\n",
        "      else :\n",
        "        arr[k] = right_half[j]\n",
        "        j += 1\n",
        "      k += 1\n",
        "    while i < len(left_half):\n",
        "      arr[k] = left_half[i]\n",
        "      i += 1\n",
        "      k += 1\n",
        "    while j < len(right_half):\n",
        "      arr[k] = right_half[j]\n",
        "      j += 1\n",
        "      k += 1\n",
        "  return arr\n",
        "# contoh penggunaan\n",
        "data = [64,25,12,22,11]\n",
        "sorted_data = merge_sort(data.copy())\n",
        "print(\"data sebelum sorting : \",data)\n",
        "print(\"data setelah merge sort : \",sorted_data)"
      ],
      "metadata": {
        "colab": {
          "base_uri": "https://localhost:8080/"
        },
        "id": "oNbvCR1u0qId",
        "outputId": "7587af7a-7bcf-42e5-fab7-9401f43392c3"
      },
      "execution_count": null,
      "outputs": [
        {
          "output_type": "stream",
          "name": "stdout",
          "text": [
            "data sebelum sorting :  [64, 25, 12, 22, 11]\n",
            "data setelah merge sort :  [11, 12, 22, 25, 64]\n"
          ]
        }
      ]
    },
    {
      "cell_type": "code",
      "source": [
        "def quick_sort(arr):\n",
        "  if len(arr) <= 1 :\n",
        "    return arr\n",
        "  pivot = arr[len(arr) // 2]\n",
        "  left = [x for x in arr if x < pivot]\n",
        "  middle = [x for x in arr if x == pivot]\n",
        "  right = [x for x in arr if x > pivot]\n",
        "\n",
        "  return quick_sort(left) + middle + quick_sort(right)\n",
        "\n",
        "# contoh penggunaan\n",
        "data = [64,25,12,22,11]\n",
        "sorted_data = quick_sort(data.copy())\n",
        "print(\"data sebelum sorting : \",data)\n",
        "print(\"daata setelah quick sort : \", sorted_data)"
      ],
      "metadata": {
        "colab": {
          "base_uri": "https://localhost:8080/"
        },
        "id": "bQzArqu26FCM",
        "outputId": "49631cd4-766f-4228-f8d7-342f1c918088"
      },
      "execution_count": null,
      "outputs": [
        {
          "output_type": "stream",
          "name": "stdout",
          "text": [
            "data sebelum sorting :  [64, 25, 12, 22, 11]\n",
            "daata setelah quick sort :  [11, 12, 22, 25, 64]\n"
          ]
        }
      ]
    }
  ]
}