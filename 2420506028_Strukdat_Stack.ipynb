{
  "nbformat": 4,
  "nbformat_minor": 0,
  "metadata": {
    "colab": {
      "provenance": [],
      "authorship_tag": "ABX9TyMkMTxdLiM2Z5UuZob5WlP1",
      "include_colab_link": true
    },
    "kernelspec": {
      "name": "python3",
      "display_name": "Python 3"
    },
    "language_info": {
      "name": "python"
    }
  },
  "cells": [
    {
      "cell_type": "markdown",
      "metadata": {
        "id": "view-in-github",
        "colab_type": "text"
      },
      "source": [
        "<a href=\"https://colab.research.google.com/github/assepwahid5/Struktur-Data/blob/main/2420506028_Strukdat_Stack.ipynb\" target=\"_parent\"><img src=\"https://colab.research.google.com/assets/colab-badge.svg\" alt=\"Open In Colab\"/></a>"
      ]
    },
    {
      "cell_type": "code",
      "source": [
        "class TextEditor:\n",
        "  def __init__(self):\n",
        "    self.history = []\n",
        "  def write(self, text):\n",
        "    self.history.append(text)\n",
        "  def undo(self):\n",
        "    if self.history:\n",
        "      return f\"Undo: Menghapus '{self.history.pop()}'\"\n",
        "    return \"Tidak ada yang bisa di-undo\"\n",
        "# Contoh Penggunaan\n",
        "editor = TextEditor()\n",
        "editor.write(\"Halo, ini teks pertama.\")\n",
        "editor.write(\"Ini teks kedua.\")\n",
        "editor.write(\"Ini teks ketiga.\")\n",
        "print(editor.undo())\n",
        "print(editor.undo())"
      ],
      "metadata": {
        "colab": {
          "base_uri": "https://localhost:8080/"
        },
        "id": "cXf0A4nHzh2B",
        "outputId": "39538374-678f-486a-9585-0a64f1e656a1"
      },
      "execution_count": null,
      "outputs": [
        {
          "output_type": "stream",
          "name": "stdout",
          "text": [
            "Undo: Menghapus 'Ini teks ketiga.'\n",
            "Undo: Menghapus 'Ini teks kedua.'\n"
          ]
        }
      ]
    },
    {
      "cell_type": "code",
      "source": [
        "# Latihan 1\n",
        "# Kelas Kalkulator dengan fitur Undo menggunakan Stack\n",
        "# Inisialisasi kalkulator dengan angka awal dari NPM.\n",
        "class KalkulatorUndo:\n",
        "    def __init__(self, angka_awal):\n",
        "        self.history = [angka_awal]  # Stack untuk menyimpan hasil operasi\n",
        "        self.current = angka_awal  # Menyimpan nilai saat ini\n",
        "\n",
        "    # Menambahkan angka ke nilai saat ini.\n",
        "    def tambah(self, angka):\n",
        "        self.current += angka\n",
        "        self.history.append(self.current)  # Simpan hasil ke stack\n",
        "\n",
        "    # Mengurangi angka dari nilai saat ini.\n",
        "    def kurang(self, angka):\n",
        "        self.current -= angka\n",
        "        self.history.append(self.current)  # Simpan hasil ke stack\n",
        "\n",
        "    # Mengalikan nilai saat ini dengan angka yang diberikan.\n",
        "    def kali(self, angka):\n",
        "        self.current *= angka\n",
        "        self.history.append(self.current)  # Simpan hasil ke stack\n",
        "\n",
        "    # Membagi nilai saat ini dengan angka yang diberikan (tidak boleh nol).\n",
        "    def bagi(self, angka):\n",
        "        if angka != 0:\n",
        "            self.current /= angka\n",
        "            self.history.append(self.current)  # Simpan hasil ke stack\n",
        "        else:\n",
        "            print(\"Error: Pembagian dengan nol tidak diperbolehkan.\")\n",
        "\n",
        "    # Membatalkan operasi terakhir dengan menghapus hasil terakhir dari stack.\n",
        "    def undo(self):\n",
        "        if len(self.history) > 1:  # Pastikan ada operasi yang bisa di-undo\n",
        "            self.history.pop()  # Hapus hasil terakhir\n",
        "            self.current = self.history[-1]  # Kembalikan ke hasil sebelumnya\n",
        "        else:\n",
        "            print(\"Tidak ada operasi yang bisa di-undo.\")\n",
        "    # Menampilkan nilai saat ini.\n",
        "    def tampilkan(self):\n",
        "        print(f\"Nilai saat ini: {self.current}\")\n",
        "\n",
        "    # Menampilkan nilai setelah undo\n",
        "    def tampilkan_undo(self):\n",
        "        print(f\"Nilai setelah undo: {self.current}\")\n",
        "\n",
        "# Gantilah '28' dengan dua digit terakhir NPM\n",
        "npm_terakhir = 28\n",
        "calc = KalkulatorUndo(npm_terakhir)\n",
        "\n",
        "# Melakukan 3 operasi matematika sebelum menguji Undo\n",
        "calc.tambah(10)  # 28 + 10 = 38\n",
        "calc.kali(3)     # 38 * 3 = 114\n",
        "calc.kurang(14)  # 114 - 14 = 100\n",
        "calc.tampilkan() # Menampilkan nilai saat ini\n",
        "\n",
        "# Mencoba fitur Undo\n",
        "calc.undo()      # Undo terakhir (mengembalikan ke 114)\n",
        "calc.tampilkan_undo() # Menampilkan nilai setelah undo\n",
        "\n",
        "calc.undo()      # Undo kedua (mengembalikan ke 38)\n",
        "calc.tampilkan_undo() # Menampilkan nilai setelah undo"
      ],
      "metadata": {
        "colab": {
          "base_uri": "https://localhost:8080/"
        },
        "id": "k5v9F7fqzlxg",
        "outputId": "d76663fe-b662-4879-e991-91c59a47ef55"
      },
      "execution_count": null,
      "outputs": [
        {
          "output_type": "stream",
          "name": "stdout",
          "text": [
            "Nilai saat ini: 100\n",
            "Nilai setelah undo: 114\n",
            "Nilai setelah undo: 38\n"
          ]
        }
      ]
    },
    {
      "cell_type": "code",
      "source": [
        "from collections import deque\n",
        "\n",
        "class BrowserHistory:\n",
        "  def __init__(self):\n",
        "    self.history = deque()\n",
        "  def visit(self, url):\n",
        "    self.history.append(url)\n",
        "    print(f\"Mengunjungi: {url}\")\n",
        "  def back(self):\n",
        "    if self.history:\n",
        "      print(f\"Kembali ke: {self.history.pop()}\")\n",
        "    else:\n",
        "      print(\"Tidak ada riwayat!\")\n",
        "# Contoh Penggunaan\n",
        "browser = BrowserHistory()\n",
        "browser.visit(\"google.com\")\n",
        "browser.visit(\"youtube.com\")\n",
        "browser.visit(\"github.com\")\n",
        "browser.back()\n",
        "browser.back()"
      ],
      "metadata": {
        "colab": {
          "base_uri": "https://localhost:8080/"
        },
        "id": "LyAQjKwAA2c6",
        "outputId": "88f67290-193d-42d9-b028-6a802cd3e693"
      },
      "execution_count": 8,
      "outputs": [
        {
          "output_type": "stream",
          "name": "stdout",
          "text": [
            "Mengunjungi: google.com\n",
            "Mengunjungi: youtube.com\n",
            "Mengunjungi: github.com\n",
            "Kembali ke: github.com\n",
            "Kembali ke: youtube.com\n"
          ]
        }
      ]
    },
    {
      "cell_type": "code",
      "source": [
        "# Latihan 2\n",
        "# NavigasiAplikasi Class\n",
        "class NavigasiAplikasi:\n",
        "    def __init__(self):\n",
        "        # Inisialisasi stack untuk menyimpan history fitur aplikasi\n",
        "        self.history = []  # Stack untuk menyimpan fitur yang dikunjungi\n",
        "\n",
        "    def kunjungi_fitur(self, fitur):\n",
        "        # Menambahkan fitur yang dikunjungi ke dalam stack\n",
        "        self.history.append(fitur)\n",
        "        print(f\"Masuk ke fitur: {fitur}\")\n",
        "\n",
        "    def kembali(self):\n",
        "        # Menghapus fitur terakhir (seperti tombol 'Back')\n",
        "        if len(self.history) > 1:\n",
        "            self.history.pop()\n",
        "            print(f\"Kembali ke fitur sebelumnya: {self.history[-1]}\")\n",
        "        else:\n",
        "            print(\"Tidak ada fitur sebelumnya untuk kembali.\")\n",
        "\n",
        "    def tampilkan_history(self):\n",
        "        # Menampilkan riwayat fitur yang telah dikunjungi\n",
        "        print(\"History fitur yang dikunjungi:\", \" -> \".join(self.history))\n",
        "\n",
        "\n",
        "# Data pengguna\n",
        "bulan_lahir = \"Januari\"\n",
        "npm_terakhir = \"28\"\n",
        "\n",
        "# Format nama fitur aplikasi: Huruf pertama bulan lahir + dua digit terakhir NPM\n",
        "prefix_fitur = bulan_lahir[0].upper() + npm_terakhir  # Contoh: \"M28\"\n",
        "\n",
        "# Membuat objek navigasi aplikasi\n",
        "app = NavigasiAplikasi()\n",
        "\n",
        "# Menambahkan minimal 3 fitur\n",
        "app.kunjungi_fitur(prefix_fitur + \"_Home\")    # Menambahkan fitur \"M28_Home\"\n",
        "app.kunjungi_fitur(prefix_fitur + \"_Profile\") # Menambahkan fitur \"M28_Profile\"\n",
        "app.kunjungi_fitur(prefix_fitur + \"_Settings\") # Menambahkan fitur \"M28_Settings\"\n",
        "\n",
        "# Menampilkan history\n",
        "app.tampilkan_history()  # Menampilkan fitur yang telah dikunjungi\n",
        "\n",
        "# Menguji tombol Back\n",
        "app.kembali()  # Kembali ke fitur sebelumnya\n",
        "app.tampilkan_history()  # Menampilkan history setelah kembali\n",
        "app.kembali()  # Kembali lagi\n",
        "app.tampilkan_history()  # Menampilkan history setelah kembali lagi"
      ],
      "metadata": {
        "colab": {
          "base_uri": "https://localhost:8080/"
        },
        "id": "-o95Q5WGCvp5",
        "outputId": "89466ffa-ef00-4373-f5f5-678df73855f1"
      },
      "execution_count": 1,
      "outputs": [
        {
          "output_type": "stream",
          "name": "stdout",
          "text": [
            "Masuk ke fitur: M28_Home\n",
            "Masuk ke fitur: M28_Profile\n",
            "Masuk ke fitur: M28_Settings\n",
            "History fitur yang dikunjungi: M28_Home -> M28_Profile -> M28_Settings\n",
            "Kembali ke fitur sebelumnya: M28_Profile\n",
            "History fitur yang dikunjungi: M28_Home -> M28_Profile\n",
            "Kembali ke fitur sebelumnya: M28_Home\n",
            "History fitur yang dikunjungi: M28_Home\n"
          ]
        }
      ]
    },
    {
      "cell_type": "code",
      "source": [
        "from queue import LifoQueue\n",
        "class BackupSystem:\n",
        "  def __init__(self):\n",
        "    self.backups = LifoQueue()\n",
        "  def backup(self, version):\n",
        "    self.backups.put(version)\n",
        "  def latest_backup(self):\n",
        "    if not self.backups.empty():\n",
        "      return f\"Versi terbaru: {self.backups.queue[-1]}\"\n",
        "    return \"Tidak ada cadangan!\"\n",
        "# Contoh Penggunaan\n",
        "backup_system = BackupSystem()\n",
        "backup_system.backup(\"Backup_1\")\n",
        "backup_system.backup(\"Backup_2\")\n",
        "backup_system.backup(\"Backup_3\")\n",
        "print(backup_system.latest_backup())"
      ],
      "metadata": {
        "colab": {
          "base_uri": "https://localhost:8080/"
        },
        "id": "mIlD2t3BDWQ0",
        "outputId": "f5658bec-e557-4dc4-e9c9-a8bd2c4f06ff"
      },
      "execution_count": 9,
      "outputs": [
        {
          "output_type": "stream",
          "name": "stdout",
          "text": [
            "Versi terbaru: Backup_3\n"
          ]
        }
      ]
    },
    {
      "cell_type": "code",
      "source": [
        "# Latihan 3\n",
        "# Sistem Penyimpanan Draft Email\n",
        "class DraftEmail:\n",
        "    def __init__(self):\n",
        "        # Inisialisasi stack untuk menyimpan draft email\n",
        "        self.drafts = []\n",
        "\n",
        "    def simpan_draft(self, subjek, isi):\n",
        "        # Menyimpan draft email ke dalam stack\n",
        "        self.drafts.append((subjek, isi))\n",
        "        print(f\"Draft email '{subjek}' telah disimpan.\")\n",
        "\n",
        "    def lihat_draft_terakhir(self):\n",
        "        # Menampilkan draft email terakhir yang disimpan\n",
        "        if self.drafts:\n",
        "            subjek, isi = self.drafts[-1]  # Mengambil draft terakhir\n",
        "            print(f\"Draft terakhir:\\nSubjek: {subjek}\\nIsi: {isi}\")\n",
        "        else:\n",
        "            print(\"Tidak ada draft email yang tersimpan.\")\n",
        "\n",
        "# Data pengguna\n",
        "nama_mahasiswa = \"Assep\"\n",
        "npm_terakhir = \"28\"\n",
        "\n",
        "# Format subjek email: dua huruf pertama nama mahasiswa + dua digit terakhir NPM\n",
        "prefix_subjek = nama_mahasiswa[:2].upper() + npm_terakhir  # Contoh: \"AS28\"\n",
        "\n",
        "# Membuat objek sistem draft email\n",
        "email_draft = DraftEmail()\n",
        "\n",
        "# Menyimpan minimal 3 draft email\n",
        "email_draft.simpan_draft(prefix_subjek + \" - Tugas\", \"Isi email tentang tugas kuliah.\")\n",
        "email_draft.simpan_draft(prefix_subjek + \" - Rapat\", \"Isi email tentang jadwal rapat.\")\n",
        "email_draft.simpan_draft(prefix_subjek + \" - Proyek\", \"Isi email tentang proyek baru.\")\n",
        "\n",
        "# Menampilkan draft terakhir\n",
        "email_draft.lihat_draft_terakhir()"
      ],
      "metadata": {
        "colab": {
          "base_uri": "https://localhost:8080/"
        },
        "id": "t0YQ6zttEG2D",
        "outputId": "4de3a4c2-5bcf-4dd4-d3bf-80060807e7a3"
      },
      "execution_count": 2,
      "outputs": [
        {
          "output_type": "stream",
          "name": "stdout",
          "text": [
            "Draft email 'AS28 - Tugas' telah disimpan.\n",
            "Draft email 'AS28 - Rapat' telah disimpan.\n",
            "Draft email 'AS28 - Proyek' telah disimpan.\n",
            "Draft terakhir:\n",
            "Subjek: AS28 - Proyek\n",
            "Isi: Isi email tentang proyek baru.\n"
          ]
        }
      ]
    },
    {
      "cell_type": "code",
      "source": [
        "class CustomerService:\n",
        "  def __init__(self):\n",
        "    self.tickets = []\n",
        "  def add_ticket(self, ticket):\n",
        "    self.tickets.append(ticket)\n",
        "  def process_ticket(self):\n",
        "    if not self.is_empty():\n",
        "      return f\"Memproses tiket: {self.tickets.pop()}\"\n",
        "    return \"Tidak ada tiket yang harus diproses.\"\n",
        "  def is_empty(self):\n",
        "    return len(self.tickets) == 0\n",
        "# Contoh Penggunaan\n",
        "service = CustomerService()\n",
        "service.add_ticket(\"Tiket 001\")\n",
        "service.add_ticket(\"Tiket 002\")\n",
        "print(service.process_ticket())\n",
        "print(service.is_empty())"
      ],
      "metadata": {
        "colab": {
          "base_uri": "https://localhost:8080/"
        },
        "id": "KeVdoW6LD_n4",
        "outputId": "e6a836dc-c096-4cf2-b2d3-4764c397e3e0"
      },
      "execution_count": 11,
      "outputs": [
        {
          "output_type": "stream",
          "name": "stdout",
          "text": [
            "Memproses tiket: Tiket 002\n",
            "False\n"
          ]
        }
      ]
    },
    {
      "cell_type": "code",
      "source": [
        "# Latihan 4\n",
        "# Sistem Antrean Tiket Bioskop\n",
        "class TiketBioskop:\n",
        "    def __init__(self):\n",
        "        # Inisialisasi stack untuk menyimpan tiket film\n",
        "        self.tiket_stack = []\n",
        "\n",
        "    def beli_tiket(self, nama_film):\n",
        "        # Menambahkan tiket ke dalam stack\n",
        "        self.tiket_stack.append(nama_film)\n",
        "        print(f\"Tiket untuk film '{nama_film}' telah dibeli.\")\n",
        "\n",
        "    def proses_tiket(self):\n",
        "        # Memproses tiket terakhir yang dibeli (LIFO - Last In, First Out)\n",
        "        if self.tiket_stack:\n",
        "            nama_film = self.tiket_stack.pop()\n",
        "            print(f\"Tiket untuk film '{nama_film}' sedang diproses.\")\n",
        "        else:\n",
        "            print(\"Tidak ada tiket dalam antrean.\")\n",
        "\n",
        "# Data pengguna\n",
        "bulan_lahir = \"Januari\"\n",
        "npm_terakhir = \"28\"\n",
        "\n",
        "# Format nama film: huruf pertama bulan lahir + dua digit terakhir NPM\n",
        "prefix_film = bulan_lahir[0].upper() + npm_terakhir  # Contoh: \"M28\"\n",
        "\n",
        "# Membuat objek sistem tiket bioskop\n",
        "bioskop = TiketBioskop()\n",
        "\n",
        "# Membeli minimal 3 tiket film\n",
        "bioskop.beli_tiket(prefix_film + \" - Film Action\")\n",
        "bioskop.beli_tiket(prefix_film + \" - Film Horror\")\n",
        "bioskop.beli_tiket(prefix_film + \" - Film Comedy\")\n",
        "\n",
        "# Memproses tiket terakhir\n",
        "bioskop.proses_tiket()"
      ],
      "metadata": {
        "colab": {
          "base_uri": "https://localhost:8080/"
        },
        "id": "KoR32ZDZGWQB",
        "outputId": "305cc60c-b5c9-48b6-8e03-0cb0d3a5bbfa"
      },
      "execution_count": 7,
      "outputs": [
        {
          "output_type": "stream",
          "name": "stdout",
          "text": [
            "Tiket untuk film 'J28 - Film Action' telah dibeli.\n",
            "Tiket untuk film 'J28 - Film Horror' telah dibeli.\n",
            "Tiket untuk film 'J28 - Film Comedy' telah dibeli.\n",
            "Tiket untuk film 'J28 - Film Comedy' sedang diproses.\n"
          ]
        }
      ]
    }
  ]
}