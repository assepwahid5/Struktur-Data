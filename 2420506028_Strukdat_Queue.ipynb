{
  "nbformat": 4,
  "nbformat_minor": 0,
  "metadata": {
    "colab": {
      "provenance": [],
      "authorship_tag": "ABX9TyM49JhWurT5DnUVSxo+UYjL",
      "include_colab_link": true
    },
    "kernelspec": {
      "name": "python3",
      "display_name": "Python 3"
    },
    "language_info": {
      "name": "python"
    }
  },
  "cells": [
    {
      "cell_type": "markdown",
      "metadata": {
        "id": "view-in-github",
        "colab_type": "text"
      },
      "source": [
        "<a href=\"https://colab.research.google.com/github/assepwahid5/Struktur-Data/blob/main/2420506028_Strukdat_Queue.ipynb\" target=\"_parent\"><img src=\"https://colab.research.google.com/assets/colab-badge.svg\" alt=\"Open In Colab\"/></a>"
      ]
    },
    {
      "cell_type": "code",
      "execution_count": null,
      "metadata": {
        "colab": {
          "base_uri": "https://localhost:8080/"
        },
        "id": "JTOWGwpdnJEu",
        "outputId": "aa2ba50c-0dd7-4fe6-e83b-512015f2111a"
      },
      "outputs": [
        {
          "output_type": "stream",
          "name": "stdout",
          "text": [
            "queue setelah enqueue: [10, 20, 30]\n",
            "dequeued element: 10\n",
            "front element: 20\n",
            "rear element: 30\n",
            "queue size: 2\n"
          ]
        }
      ],
      "source": [
        "# implementasi queue menggunakan list\n",
        "class queuelist:\n",
        "  def __init__(self):\n",
        "    self.queue = []\n",
        "  def enqueue(self,item):\n",
        "    self.queue.append(item)\n",
        "  def dequeue(self):\n",
        "    if not self.is_empty():\n",
        "      return self.queue.pop(0)\n",
        "    return none\n",
        "  def front(self):\n",
        "    return self.queue[0] if not self.is_empty() else none\n",
        "  def rear(self):\n",
        "    return self.queue[-1] if not self.is_empty() else none\n",
        "  def is_empty(self):\n",
        "    return len(self.queue) == 0\n",
        "  def size(self):\n",
        "    return len(self.queue)\n",
        "\n",
        "# contoh penggunaan\n",
        "queue = queuelist()\n",
        "queue.enqueue(10)\n",
        "queue.enqueue(20)\n",
        "queue.enqueue(30)\n",
        "print(\"queue setelah enqueue:\",queue.queue)\n",
        "print(\"dequeued element:\",queue.dequeue())\n",
        "print(\"front element:\",queue.front())\n",
        "print(\"rear element:\",queue.rear())\n",
        "print(\"queue size:\",queue.size())"
      ]
    },
    {
      "cell_type": "code",
      "source": [
        "from collections import deque\n",
        "# implementasi queue menggunakan deque\n",
        "class QueueDeque:\n",
        "  def __init__(self):\n",
        "    self.queue = deque()\n",
        "  def enqueue(self,item):\n",
        "    self.queue.append(item)\n",
        "  def dequeue(self):\n",
        "    return self.queue.popleft() if not self.is_empty() else None\n",
        "  def front(self):\n",
        "    return self.queue[0] if not self.is_empty() else None\n",
        "  def rear(self):\n",
        "    return self.queue[-1] if not self.is_empty() else None\n",
        "  def is_empty(self):\n",
        "    return len(self.queue) == 0\n",
        "  def size(self):\n",
        "    return len(self.queue)\n",
        "# contoh penggunaan\n",
        "queue = QueueDeque()\n",
        "queue.enqueue(10)\n",
        "queue.enqueue(20)\n",
        "queue.enqueue(30)\n",
        "print(\"queue setelah enqueue:\",list(queue.queue))\n",
        "print(\"dequeued element:\",queue.dequeue())\n",
        "print(\"front element:\",queue.front())\n",
        "print(\"rear element:\",queue.rear())\n",
        "print(\"queue size:\",queue.size())"
      ],
      "metadata": {
        "colab": {
          "base_uri": "https://localhost:8080/"
        },
        "id": "ccKkhUBJq4jZ",
        "outputId": "cacc7834-f771-45ed-a909-024721501417"
      },
      "execution_count": null,
      "outputs": [
        {
          "output_type": "stream",
          "name": "stdout",
          "text": [
            "queue setelah enqueue: [10, 20, 30]\n",
            "dequeued element: 10\n",
            "front element: 20\n",
            "rear element: 30\n",
            "queue size: 2\n"
          ]
        }
      ]
    },
    {
      "cell_type": "code",
      "source": [
        "from queue import Queue\n",
        "# implementasi queue menggunakan queue.queue\n",
        "queue = Queue()\n",
        "\n",
        "queue.put(10)\n",
        "queue.put(20)\n",
        "queue.put(30)\n",
        "\n",
        "print(\"queue size:\",queue.qsize())\n",
        "print(\"dequeued element:\",queue.get())\n",
        "print(\"queue size setelah dequeue:\", queue.qsize())"
      ],
      "metadata": {
        "colab": {
          "base_uri": "https://localhost:8080/"
        },
        "id": "91Pxsc6eu8RS",
        "outputId": "293548a4-51f0-4754-d3b6-9e8fce7fe618"
      },
      "execution_count": null,
      "outputs": [
        {
          "output_type": "stream",
          "name": "stdout",
          "text": [
            "queue size: 3\n",
            "dequeued element: 10\n",
            "queue size setelah dequeue: 2\n"
          ]
        }
      ]
    },
    {
      "cell_type": "code",
      "source": [
        "class node:\n",
        "  def __init__(self,data):\n",
        "    self.data = data\n",
        "    self.next = None\n",
        "class queuelinkedlist:\n",
        "  def __init__(self):\n",
        "    self.front = self.rear = None\n",
        "  def enqueue(self,data):\n",
        "    new_node = node(data)\n",
        "    if self.rear is None:\n",
        "      self.front = self.rear = new_node\n",
        "      return\n",
        "    self.rear.next= new_node\n",
        "    self.rear = new_node\n",
        "  def dequeue(self):\n",
        "    if self.front is None:\n",
        "      return None\n",
        "    dequeued_element = self.front.data\n",
        "    self.front = self.front.next\n",
        "    if self.front is None:\n",
        "      self.rear = None\n",
        "    return dequeued_element\n",
        "  def is_empty(self):\n",
        "    return self.front is None\n",
        "  def front_element(self):\n",
        "    return self.front.data if self.front else None\n",
        "  def rear_element(self):\n",
        "    return self.rear.data if self.rear else None\n",
        "\n",
        "# Contoh penggunaan\n",
        "queue = queuelinkedlist()\n",
        "queue.enqueue(10)\n",
        "queue.enqueue(20)\n",
        "queue.enqueue(30)\n",
        "print(\"dequeued element:\",queue.dequeue())\n",
        "print(\"front element:\",queue.front_element())\n",
        "print(\"Rear element:\",queue.rear_element())"
      ],
      "metadata": {
        "id": "pIQLJITmwH0P",
        "colab": {
          "base_uri": "https://localhost:8080/"
        },
        "outputId": "15e7b1ea-ddd5-4df7-c03d-17280428d4f3"
      },
      "execution_count": 4,
      "outputs": [
        {
          "output_type": "stream",
          "name": "stdout",
          "text": [
            "dequeued element: 10\n",
            "front element: 20\n",
            "Rear element: 30\n"
          ]
        }
      ]
    },
    {
      "cell_type": "code",
      "source": [
        "# Soal Latihan 1: Antrian Pemesanan Tiket Bioskop\n",
        "class TicketQueue:\n",
        "    def __init__(self, capacity=10):\n",
        "        # Inisialisasi queue sebagai list kosong\n",
        "        self.queue = []\n",
        "        # Menetapkan kapasitas maksimum antrian\n",
        "        self.capacity = capacity\n",
        "\n",
        "    def enqueue(self, ticket_id):\n",
        "        # Jika pelanggan adalah VIP (kode mengandung '7'), langsung dapat kursi\n",
        "        if '7' in ticket_id:\n",
        "            print(ticket_id, \"langsung dapat kursi (VIP)\")\n",
        "        # Jika antrian belum penuh, tambahkan pelanggan ke antrian\n",
        "        elif len(self.queue) < self.capacity:\n",
        "            self.queue.append(ticket_id)\n",
        "            print(ticket_id, \"masuk antrian\")\n",
        "        # Jika antrian penuh, pelanggan harus menunggu\n",
        "        else:\n",
        "            print(\"Antrian penuh, tunggu dulu ya\")\n",
        "\n",
        "    def dequeue(self):\n",
        "        # Jika antrian tidak kosong, layani pelanggan pertama dan hapus dari antrian\n",
        "        if not self.is_empty():\n",
        "            pelanggan = self.queue.pop(0)\n",
        "            print(pelanggan, \"sudah dilayani\")\n",
        "        # Jika antrian kosong, tidak ada yang bisa dilayani\n",
        "        else:\n",
        "            print(\"Antrian kosong, tidak ada yang dilayani\")\n",
        "\n",
        "    def front(self):\n",
        "        # Mengembalikan pelanggan pertama dalam antrian jika tidak kosong\n",
        "        if not self.is_empty():\n",
        "            return self.queue[0]\n",
        "        return None\n",
        "\n",
        "    def rear(self):\n",
        "        # Mengembalikan pelanggan terakhir dalam antrian jika tidak kosong\n",
        "        if not self.is_empty():\n",
        "            return self.queue[-1]\n",
        "        return None\n",
        "\n",
        "    def is_empty(self):\n",
        "        # Mengecek apakah antrian kosong\n",
        "        return len(self.queue) == 0\n",
        "\n",
        "    def size(self):\n",
        "        # Mengembalikan jumlah pelanggan dalam antrian\n",
        "        return len(self.queue)\n",
        "\n",
        "# Contoh Penggunaan\n",
        "queue = TicketQueue()\n",
        "\n",
        "# Menambahkan pelanggan ke antrian\n",
        "queue.enqueue(\"As28\")\n",
        "queue.enqueue(\"As728\")  # Pelanggan VIP\n",
        "queue.enqueue(\"Ra99\")\n",
        "\n",
        "# Melayani pelanggan pertama dalam antrian\n",
        "queue.dequeue()\n",
        "\n",
        "# Menampilkan pelanggan pertama dalam antrian\n",
        "print(\"Pelanggan pertama:\", queue.front())\n",
        "\n",
        "# Menampilkan pelanggan terakhir dalam antrian\n",
        "print(\"Pelanggan terakhir:\", queue.rear())\n",
        "\n",
        "# Menampilkan total jumlah pelanggan dalam antrian\n",
        "print(\"Total antrian:\", queue.size())"
      ],
      "metadata": {
        "colab": {
          "base_uri": "https://localhost:8080/"
        },
        "id": "mb13X6-XQUSc",
        "outputId": "c3471eeb-22bd-4919-efdd-c9abefaa3ade"
      },
      "execution_count": 4,
      "outputs": [
        {
          "output_type": "stream",
          "name": "stdout",
          "text": [
            "As28 masuk antrian\n",
            "As728 langsung dapat kursi (VIP)\n",
            "Ra99 masuk antrian\n",
            "As28 sudah dilayani\n",
            "Pelanggan pertama: Ra99\n",
            "Pelanggan terakhir: Ra99\n",
            "Total antrian: 1\n"
          ]
        }
      ]
    },
    {
      "cell_type": "code",
      "source": [
        "#Soal Latihan 2: Antrian Layanan Fotokopi Kampus\n",
        "\n",
        "class FotocopyQueue:\n",
        "    def __init__(self):\n",
        "        self.queue = []  # Inisialisasi antrian sebagai list kosong\n",
        "\n",
        "    def enqueue(self, order_id, num_pages):\n",
        "        # Jika jumlah halaman kurang dari 10, pesanan langsung diproses (Fast Track)\n",
        "        if num_pages < 10:\n",
        "            print(f\"{order_id} langsung diproses (Fast Track)\")\n",
        "        else:\n",
        "            # Tambahkan pesanan ke antrian\n",
        "            self.queue.append((order_id, num_pages))\n",
        "            print(f\"{order_id} masuk antrian dengan {num_pages} halaman\")\n",
        "\n",
        "    def dequeue(self):\n",
        "        # Jika antrian tidak kosong, layani pesanan pertama\n",
        "        if not self.is_empty():\n",
        "            order = self.queue.pop(0)\n",
        "            print(f\"{order[0]} sudah diproses\")\n",
        "        else:\n",
        "            print(\"Antrian kosong, tidak ada pesanan untuk diproses\")\n",
        "\n",
        "    def front(self):\n",
        "        # Menampilkan pesanan pertama dalam antrian\n",
        "        if not self.is_empty():\n",
        "            return self.queue[0]\n",
        "        return None\n",
        "\n",
        "    def rear(self):\n",
        "        # Menampilkan pesanan terakhir dalam antrian\n",
        "        if not self.is_empty():\n",
        "            return self.queue[-1]\n",
        "        return None\n",
        "\n",
        "    def is_empty(self):\n",
        "        # Mengecek apakah antrian kosong\n",
        "        return len(self.queue) == 0\n",
        "\n",
        "    def size(self):\n",
        "        # Mengembalikan jumlah pesanan dalam antrian\n",
        "        return len(self.queue)\n",
        "\n",
        "\n",
        "# Contoh Penggunaan\n",
        "queue = FotocopyQueue()\n",
        "\n",
        "# Menambahkan pesanan ke antrian\n",
        "queue.enqueue(\"As28\", 120)  # Masuk antrian\n",
        "queue.enqueue(\"B28\", 8)    # Fast Track, langsung diproses\n",
        "queue.enqueue(\"C28\", 50)   # Masuk antrian\n",
        "\n",
        "# Melayani pesanan pertama dalam antrian\n",
        "queue.dequeue()\n",
        "\n",
        "# Menampilkan pesanan pertama dan terakhir dalam antrian\n",
        "print(\"Pesanan pertama:\", queue.front())\n",
        "print(\"Pesanan terakhir:\", queue.rear())\n",
        "\n",
        "# Menampilkan jumlah total pesanan dalam antrian\n",
        "print(\"Total pesanan dalam antrian:\", queue.size())\n"
      ],
      "metadata": {
        "colab": {
          "base_uri": "https://localhost:8080/"
        },
        "id": "2BeYbNsv4jaU",
        "outputId": "020d0792-ddfb-40e9-c51c-ee2674656ac5"
      },
      "execution_count": 5,
      "outputs": [
        {
          "output_type": "stream",
          "name": "stdout",
          "text": [
            "As28 masuk antrian dengan 120 halaman\n",
            "B28 langsung diproses (Fast Track)\n",
            "C28 masuk antrian dengan 50 halaman\n",
            "As28 sudah diproses\n",
            "Pesanan pertama: ('C28', 50)\n",
            "Pesanan terakhir: ('C28', 50)\n",
            "Total pesanan dalam antrian: 1\n"
          ]
        }
      ]
    },
    {
      "cell_type": "code",
      "source": [
        "# Soal Latihan 3: Antrian Layanan Parkir Mall\n",
        "# Membuat antrian parkiran pakai list\n",
        "class ParkingQueue:\n",
        "    def __init__(self, kapasitas=15):\n",
        "        self.antrian = []  # List untuk menyimpan kendaraan\n",
        "        self.kapasitas = kapasitas  # Maksimal kendaraan di parkiran\n",
        "\n",
        "    def enqueue(self, nomor_kendaraan, prioritas=False):\n",
        "        if prioritas:\n",
        "            print(nomor_kendaraan, \"langsung masuk (Parkir Prioritas)\")  # Kendaraan prioritas langsung masuk\n",
        "        elif len(self.antrian) < self.kapasitas:\n",
        "            self.antrian.append(nomor_kendaraan)  # Masukkan kendaraan ke antrian\n",
        "            print(nomor_kendaraan, \"masuk antrian parkir\")\n",
        "        else:\n",
        "            print(\"Parkiran penuh! Tunggu kendaraan keluar dulu\")\n",
        "\n",
        "    def dequeue(self):\n",
        "        if len(self.antrian) > 0:  # Cek apakah ada kendaraan di antrian\n",
        "            keluar = self.antrian.pop(0)  # Hapus kendaraan pertama dari antrian\n",
        "            print(keluar, \"keluar dari parkiran\")\n",
        "        else:\n",
        "            print(\"Parkiran kosong, tidak ada kendaraan untuk keluar\")\n",
        "\n",
        "    def front(self):\n",
        "        if len(self.antrian) > 0:\n",
        "            return self.antrian[0]  # Kendaraan pertama di antrian\n",
        "        return None  # Kalau kosong, kembalikan None\n",
        "\n",
        "    def rear(self):\n",
        "        if len(self.antrian) > 0:\n",
        "            return self.antrian[-1]  # Kendaraan terakhir di antrian\n",
        "        return None\n",
        "\n",
        "    def is_empty(self):\n",
        "        return len(self.antrian) == 0  # Cek apakah parkiran kosong\n",
        "\n",
        "    def size(self):\n",
        "        return len(self.antrian)  # Hitung jumlah kendaraan dalam antrian\n",
        "\n",
        "\n",
        "# Contoh Penggunaan\n",
        "queue = ParkingQueue()\n",
        "\n",
        "# Tambahkan kendaraan ke antrian parkir\n",
        "queue.enqueue(\"As28\")  # Kendaraan biasa\n",
        "queue.enqueue(\"Ba728\", prioritas=True)  # Kendaraan prioritas\n",
        "queue.enqueue(\"Jk99\")  # Kendaraan biasa\n",
        "\n",
        "# Keluarkan kendaraan pertama dari parkiran\n",
        "queue.dequeue()\n",
        "\n",
        "# Tampilkan kendaraan pertama dan terakhir dalam antrian\n",
        "print(\"Kendaraan pertama:\", queue.front())\n",
        "print(\"Kendaraan terakhir:\", queue.rear())\n",
        "\n",
        "# Tampilkan jumlah total kendaraan dalam antrian\n",
        "print(\"Total kendaraan dalam antrian:\", queue.size())"
      ],
      "metadata": {
        "colab": {
          "base_uri": "https://localhost:8080/"
        },
        "id": "4xMq4bwo5Uj6",
        "outputId": "bf13ca87-f305-41ed-d163-7c37ebc63675"
      },
      "execution_count": 6,
      "outputs": [
        {
          "output_type": "stream",
          "name": "stdout",
          "text": [
            "As28 masuk antrian parkir\n",
            "Ba728 langsung masuk (Parkir Prioritas)\n",
            "Jk99 masuk antrian parkir\n",
            "As28 keluar dari parkiran\n",
            "Kendaraan pertama: Jk99\n",
            "Kendaraan terakhir: Jk99\n",
            "Total kendaraan dalam antrian: 1\n"
          ]
        }
      ]
    },
    {
      "cell_type": "code",
      "source": [
        "# Soal Latihan 4: Antrian Pengambilan Sertifikat di Kampus\n",
        "# Antrian Pengambilan Sertifikat di Kampus\n",
        "class CertificateQueue:\n",
        "    def __init__(self, kapasitas=20):\n",
        "        self.antrian = []  # List untuk antrian mahasiswa\n",
        "        self.kapasitas = kapasitas  # Maksimal antrian\n",
        "\n",
        "    def enqueue(self, student_id, prioritas=False):\n",
        "        if prioritas:\n",
        "            print(student_id, \"langsung mengambil sertifikat (Prioritas)\")\n",
        "        elif len(self.antrian) < self.kapasitas:\n",
        "            self.antrian.append(student_id)  # Tambahkan mahasiswa ke antrian\n",
        "            print(student_id, \"masuk antrian sertifikat\")\n",
        "        else:\n",
        "            print(\"Antrian penuh! Harap menunggu mahasiswa lain mengambil sertifikat\")\n",
        "\n",
        "    def dequeue(self):\n",
        "        if len(self.antrian) > 0:\n",
        "            mahasiswa = self.antrian.pop(0)  # Layani mahasiswa pertama\n",
        "            print(mahasiswa, \"sudah mengambil sertifikat\")\n",
        "        else:\n",
        "            print(\"Antrian kosong, tidak ada mahasiswa yang dilayani\")\n",
        "\n",
        "    def front(self):\n",
        "        if len(self.antrian) > 0:\n",
        "            return self.antrian[0]  # Mahasiswa pertama dalam antrian\n",
        "        return None\n",
        "\n",
        "    def rear(self):\n",
        "        if len(self.antrian) > 0:\n",
        "            return self.antrian[-1]  # Mahasiswa terakhir dalam antrian\n",
        "        return None\n",
        "\n",
        "    def is_empty(self):\n",
        "        return len(self.antrian) == 0  # Cek apakah antrian kosong\n",
        "\n",
        "    def size(self):\n",
        "        return len(self.antrian)  # Hitung jumlah mahasiswa dalam antrian\n",
        "\n",
        "\n",
        "# Contoh Penggunaan\n",
        "queue = CertificateQueue()\n",
        "\n",
        "# Tambahkan mahasiswa ke antrian\n",
        "queue.enqueue(\"As28\")  # Mahasiswa biasa\n",
        "queue.enqueue(\"SI17\", prioritas=True)  # Mahasiswa prioritas\n",
        "queue.enqueue(\"DK99\")  # Mahasiswa biasa\n",
        "\n",
        "# Layani mahasiswa pertama dalam antrian\n",
        "queue.dequeue()\n",
        "\n",
        "# Tampilkan mahasiswa pertama dan terakhir dalam antrian\n",
        "print(\"Mahasiswa pertama:\", queue.front())\n",
        "print(\"Mahasiswa terakhir:\", queue.rear())\n",
        "\n",
        "# Tampilkan jumlah total mahasiswa dalam antrian\n",
        "print(\"Total mahasiswa dalam antrian:\", queue.size())"
      ],
      "metadata": {
        "colab": {
          "base_uri": "https://localhost:8080/"
        },
        "id": "Yg5X4EkG5sjZ",
        "outputId": "8b1e4773-dd65-4edd-f3fb-46fc8d11fd9f"
      },
      "execution_count": 7,
      "outputs": [
        {
          "output_type": "stream",
          "name": "stdout",
          "text": [
            "As28 masuk antrian sertifikat\n",
            "SI17 langsung mengambil sertifikat (Prioritas)\n",
            "DK99 masuk antrian sertifikat\n",
            "As28 sudah mengambil sertifikat\n",
            "Mahasiswa pertama: DK99\n",
            "Mahasiswa terakhir: DK99\n",
            "Total mahasiswa dalam antrian: 1\n"
          ]
        }
      ]
    }
  ]
}