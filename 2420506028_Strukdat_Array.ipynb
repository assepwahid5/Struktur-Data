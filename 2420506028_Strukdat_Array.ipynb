{
  "nbformat": 4,
  "nbformat_minor": 0,
  "metadata": {
    "colab": {
      "provenance": [],
      "authorship_tag": "ABX9TyNqB7ljdDrK+KUl3BPAeuTH",
      "include_colab_link": true
    },
    "kernelspec": {
      "name": "python3",
      "display_name": "Python 3"
    },
    "language_info": {
      "name": "python"
    }
  },
  "cells": [
    {
      "cell_type": "markdown",
      "metadata": {
        "id": "view-in-github",
        "colab_type": "text"
      },
      "source": [
        "<a href=\"https://colab.research.google.com/github/assepwahid5/Struktur-Data/blob/main/2420506028_Strukdat_Array.ipynb\" target=\"_parent\"><img src=\"https://colab.research.google.com/assets/colab-badge.svg\" alt=\"Open In Colab\"/></a>"
      ]
    },
    {
      "cell_type": "code",
      "execution_count": null,
      "metadata": {
        "colab": {
          "base_uri": "https://localhost:8080/"
        },
        "id": "m-L5k2Qvs9Bw",
        "outputId": "c9ecdeca-9244-4ad4-cc8c-34a1feb41c87"
      },
      "outputs": [
        {
          "output_type": "stream",
          "name": "stdout",
          "text": [
            "Isi array angka: [60, 70, 80, 90, 100]\n"
          ]
        }
      ],
      "source": [
        "# 1.Array 1 Dimensi\n",
        "\n",
        "# 1.1 Deklarasi array kosong\n",
        "data = []\n",
        "\n",
        "# inisialisasi array dengan elemen\n",
        "angka = [60,70,80,90,100]\n",
        "\n",
        "# menampilkan isi array\n",
        "print(\"Isi array angka:\", angka)"
      ]
    },
    {
      "cell_type": "code",
      "source": [
        "# Latihan 1\n",
        "# Latihan array 1 dimensi\n",
        "NPM = [2420506024,2420506025,2420506026,2420506027,2420506028]\n",
        "print(\"Daftar NPM =\", NPM)"
      ],
      "metadata": {
        "colab": {
          "base_uri": "https://localhost:8080/"
        },
        "id": "x-FZUauawVOj",
        "outputId": "0723372a-45f4-47e9-a434-aaf82720e9a1"
      },
      "execution_count": null,
      "outputs": [
        {
          "output_type": "stream",
          "name": "stdout",
          "text": [
            "Daftar NPM = [2420506024, 2420506025, 2420506026, 2420506027, 2420506028]\n"
          ]
        }
      ]
    },
    {
      "cell_type": "code",
      "source": [
        "# 1.2 operasi dasar pada array\n",
        "# mengakses elemen array\n",
        "NPM = [2,4,0,5,0,6,0,2,8]\n",
        "print(\"Elemen pertama :\", NPM[0])\n",
        "print(\"Elemen kedua terakhir :\", NPM[-2])\n",
        "\n",
        "# menambah elemen array\n",
        "# menambah elemen menggunakan append()\n",
        "NPM.append(7)\n",
        "print(\"Array setelah penambahan elemen :\", NPM)\n",
        "\n",
        "# menambah elemen menggunakan insert()\n",
        "NPM.insert(3,200) # menyisipkan 200 di indeks ke-3\n",
        "print(\"Array setelah penambahan elemen dengan insert:\", NPM)\n",
        "\n",
        "# menghapus elemen array\n",
        "# menghapus elemen menggunakan remove()\n",
        "NPM.remove(200) # menghapus elemen 200\n",
        "print(\"Array setelah menghapus elemen 200 :\", NPM)\n",
        "\n",
        "# menghapus elemen menggunakan pop()\n",
        "# saya ingin menghapus 6 dari array\n",
        "NPM.pop(5)\n",
        "print(\"Array setelah menghapus 6 menggunakan pop():\", NPM)\n",
        "\n",
        "# mengubah elemen array\n",
        "# saya ingin mengubah 8 menjadi 6\n",
        "NPM[7] = 6\n",
        "print(\"Array setelah mengubah 8 menjadi 6 :\", NPM)"
      ],
      "metadata": {
        "colab": {
          "base_uri": "https://localhost:8080/"
        },
        "id": "i5HzQPIWxStj",
        "outputId": "cb667a42-10c7-4068-a86c-93250126bcb1"
      },
      "execution_count": null,
      "outputs": [
        {
          "output_type": "stream",
          "name": "stdout",
          "text": [
            "Elemen pertama : 2\n",
            "Elemen kedua terakhir : 2\n",
            "Array setelah penambahan elemen : [2, 4, 0, 5, 0, 6, 0, 2, 8, 7]\n",
            "Array setelah penambahan elemen dengan insert: [2, 4, 0, 200, 5, 0, 6, 0, 2, 8, 7]\n",
            "Array setelah menghapus elemen 200 : [2, 4, 0, 5, 0, 6, 0, 2, 8, 7]\n",
            "Array setelah menghapus 6 menggunakan pop(): [2, 4, 0, 5, 0, 0, 2, 8, 7]\n",
            "Array setelah mengubah 8 menjadi 6 : [2, 4, 0, 5, 0, 0, 2, 6, 7]\n"
          ]
        }
      ]
    },
    {
      "cell_type": "code",
      "source": [
        "# Latihan 2\n",
        "# Latihan 1.2 Operasi dasar pada array\n",
        "NPM = [2,4,2,0,5,0,6,0,2,8]\n",
        "angka = [NPM[-2],NPM[-1]]\n",
        "\n",
        "NPM.pop(0)\n",
        "print(\"Array NPM setelah dihapus elemen pertama :\",NPM)\n",
        "angka.pop(0)\n",
        "print(\"Array angka setelah dimasukan 2 digit terakhir dan dihapus elemen pertama :\", angka)"
      ],
      "metadata": {
        "colab": {
          "base_uri": "https://localhost:8080/"
        },
        "id": "GTbwnPQV43Ub",
        "outputId": "48a6acb4-a324-4f26-f9cd-cf65df64bcb8"
      },
      "execution_count": null,
      "outputs": [
        {
          "output_type": "stream",
          "name": "stdout",
          "text": [
            "Array NPM setelah dihapus elemen pertama : [4, 2, 0, 5, 0, 6, 0, 2, 8]\n",
            "Array angka setelah dimasukan 2 digit terakhir dan dihapus elemen pertama : [8]\n"
          ]
        }
      ]
    },
    {
      "cell_type": "code",
      "source": [
        "# 2.Iterasi dan operasi pada array\n",
        "# 2.1 Iterasi dengan Perulangan\n",
        "NPM = [2,4,2,0,5,0,6,0,2,8]\n",
        "for nilai in NPM :\n",
        "  print(\"NPM :\", nilai)"
      ],
      "metadata": {
        "colab": {
          "base_uri": "https://localhost:8080/"
        },
        "id": "lbGt_4j67Lc4",
        "outputId": "68e4a7da-88b1-4e23-a534-908bfaabebb4"
      },
      "execution_count": null,
      "outputs": [
        {
          "output_type": "stream",
          "name": "stdout",
          "text": [
            "NPM : 2\n",
            "NPM : 4\n",
            "NPM : 2\n",
            "NPM : 0\n",
            "NPM : 5\n",
            "NPM : 0\n",
            "NPM : 6\n",
            "NPM : 0\n",
            "NPM : 2\n",
            "NPM : 8\n"
          ]
        }
      ]
    },
    {
      "cell_type": "code",
      "source": [
        "# Latihan 3\n",
        "# Latihan 2.1 Iterasi dengan perulangan\n",
        "\n",
        "Fakultas = [\"Ekonomi\",\"Keguruan dan Ilmu Pendidikan\",\"Ilmu Sosial dan Ilmu Politik\", \"Pertanian\", \"Teknik\"]\n",
        "\n",
        "for faculty in Fakultas :\n",
        "  print(\"Fakultas\", faculty)"
      ],
      "metadata": {
        "colab": {
          "base_uri": "https://localhost:8080/"
        },
        "id": "e7_xW0id8kHs",
        "outputId": "7d2c4747-578a-4bdc-bd68-780ef1a81f96"
      },
      "execution_count": null,
      "outputs": [
        {
          "output_type": "stream",
          "name": "stdout",
          "text": [
            "Fakultas Ekonomi\n",
            "Fakultas Keguruan dan Ilmu Pendidikan\n",
            "Fakultas Ilmu Sosial dan Ilmu Politik\n",
            "Fakultas Pertanian\n",
            "Fakultas Teknik\n"
          ]
        }
      ]
    },
    {
      "cell_type": "code",
      "source": [
        "# 2.2 Operasi matematika sederhana\n",
        "angka = [2,4,2,0,5,0,6,0,2,8]\n",
        "print(\"jumlah total:\",sum(angka))\n",
        "print(\"Nilai Maksimum:\",max(angka))\n",
        "print(\"Nilai Minimum:\",min(angka))"
      ],
      "metadata": {
        "colab": {
          "base_uri": "https://localhost:8080/"
        },
        "id": "e5B-cilC-fRn",
        "outputId": "933496e7-049c-40e4-ec02-1cb7d1a69a27"
      },
      "execution_count": null,
      "outputs": [
        {
          "output_type": "stream",
          "name": "stdout",
          "text": [
            "jumlah total: 29\n",
            "Nilai Maksimum: 8\n",
            "Nilai Minimum: 0\n"
          ]
        }
      ]
    },
    {
      "cell_type": "code",
      "source": [
        "# Latihan 4\n",
        "# Latihan 2.2 Operasi matematika sederhana\n",
        "harga_barang = [\n",
        "    8000000,\n",
        "    200000,\n",
        "    30000,\n",
        "    100000,\n",
        "    520000,\n",
        "    300000\n",
        "]\n",
        "print(\"jumlah harga:\",sum(harga_barang))\n",
        "print(\"jumlah elemen dari array:\",len(harga_barang))"
      ],
      "metadata": {
        "colab": {
          "base_uri": "https://localhost:8080/"
        },
        "id": "LifV6gOA_NX7",
        "outputId": "709125ea-4ff7-43b6-e0c0-b7af25d76f14"
      },
      "execution_count": null,
      "outputs": [
        {
          "output_type": "stream",
          "name": "stdout",
          "text": [
            "jumlah harga: 9150000\n",
            "jumlah elemen dari array: 6\n"
          ]
        }
      ]
    },
    {
      "cell_type": "code",
      "source": [
        "# 3.Array 2 dimensi\n",
        "# 3.1 Deklarasi dan inisialisasi Array 2D\n",
        "# Deklarasi array 2D\n",
        "matriks = [\n",
        "    [1,2,3],\n",
        "    [4,5,6],\n",
        "    [7,8,9]\n",
        "]\n",
        "# Menampilkan isi array 2D\n",
        "print(\"isi array 2D:\")\n",
        "for baris in matriks:\n",
        "  print(baris)\n"
      ],
      "metadata": {
        "colab": {
          "base_uri": "https://localhost:8080/"
        },
        "id": "lNg6PhtNBa5O",
        "outputId": "f4e25cfd-812c-4c5f-c9d8-ec31b8b7461d"
      },
      "execution_count": null,
      "outputs": [
        {
          "output_type": "stream",
          "name": "stdout",
          "text": [
            "isi array 2D:\n",
            "[1, 2, 3]\n",
            "[4, 5, 6]\n",
            "[7, 8, 9]\n"
          ]
        }
      ]
    },
    {
      "cell_type": "code",
      "source": [
        "# Latihan 5\n",
        "# Latihan 3.1 Deklarasi dan inisialisasi Array 2D\n",
        "matriks_3x4 = [\n",
        "    [3,4,5,7],\n",
        "    [4,8,7,8],\n",
        "    [1,3,2,1]\n",
        "]\n",
        "print(\"isi array 2D:\")\n",
        "for baris in matriks_3x4:\n",
        "  print(baris)"
      ],
      "metadata": {
        "colab": {
          "base_uri": "https://localhost:8080/"
        },
        "id": "njssqsDNEmXC",
        "outputId": "d5228d0e-277c-454f-adc7-514f03812346"
      },
      "execution_count": null,
      "outputs": [
        {
          "output_type": "stream",
          "name": "stdout",
          "text": [
            "isi array 2D:\n",
            "[3, 4, 5, 7]\n",
            "[4, 8, 7, 8]\n",
            "[1, 3, 2, 1]\n"
          ]
        }
      ]
    },
    {
      "cell_type": "code",
      "source": [
        "# 3.2 Operasi Dasar pada Array 2D\n",
        "# a. mengakses elemen array 2d\n",
        "# mengakses elemen pada baris ke-3, kolom ke-4 {indeks[2][3]}\n",
        "matriks = [\n",
        "    [3,4,5,7],\n",
        "    [4,8,7,8],\n",
        "    [1,3,2,1]\n",
        "]\n",
        "print (\"elemen pada baris 2,kolom 4 :\", matriks[1][3])\n",
        "\n",
        "# mengakses elemen terakhir (baris ke-3, kolom ke-4 )\n",
        "print(\"elemen terakhir:\",matriks[2][3])"
      ],
      "metadata": {
        "colab": {
          "base_uri": "https://localhost:8080/"
        },
        "id": "_gVaYuC8Fnhn",
        "outputId": "e5d36f33-9ac7-4dd4-8715-4091cecbae0b"
      },
      "execution_count": null,
      "outputs": [
        {
          "output_type": "stream",
          "name": "stdout",
          "text": [
            "elemen pada baris 2,kolom 4 : 8\n",
            "elemen terakhir: 1\n"
          ]
        }
      ]
    },
    {
      "cell_type": "code",
      "source": [
        "# Latihan 6\n",
        "# Latihan 3.2 Operasi Dasar pada Array 2D\n",
        "# a. mengakses elemen array 2d\n",
        "matriks = [\n",
        "    [2,3,4,6],\n",
        "    [5,7,8,1],\n",
        "    [3,2,1,5]\n",
        "]\n",
        "print(\"elemen pada baris 2 kolom 4 :\",matriks[1][3])"
      ],
      "metadata": {
        "colab": {
          "base_uri": "https://localhost:8080/"
        },
        "id": "rs9-rqsWTrS3",
        "outputId": "2cef0528-46fd-479e-f1f6-514af77dea1e"
      },
      "execution_count": null,
      "outputs": [
        {
          "output_type": "stream",
          "name": "stdout",
          "text": [
            "elemen pada baris 2 kolom 4 : 1\n"
          ]
        }
      ]
    },
    {
      "cell_type": "code",
      "source": [
        "# 3.2 Operasi Dasar pada Array 2D\n",
        "# b. Menambah Elemen ke Array 2D\n",
        "# Menambahkan baris baru\n",
        "matriks = [\n",
        "    [2,3,6],\n",
        "    [6,7,4],\n",
        "    [3,2,5]\n",
        "]\n",
        "matriks.append([3,5,6])\n",
        "print(\"array setelah menambahkan baris baru:\")\n",
        "for baris in matriks:\n",
        "  print(baris)\n",
        "# Menambahkan elemen pada baris ke-3\n",
        "matriks[2].append(22)\n",
        "print(\"array setelah menambahkan elemen baris ke-3:\")\n",
        "for baris in matriks:\n",
        "  print(baris)"
      ],
      "metadata": {
        "id": "bVe2wRPvVRyr",
        "colab": {
          "base_uri": "https://localhost:8080/"
        },
        "outputId": "ddbcc36a-b37a-4c77-a5b5-e551443575e0"
      },
      "execution_count": 6,
      "outputs": [
        {
          "output_type": "stream",
          "name": "stdout",
          "text": [
            "array setelah menambahkan baris baru:\n",
            "[2, 3, 6]\n",
            "[6, 7, 4]\n",
            "[3, 2, 5]\n",
            "[3, 5, 6]\n",
            "array setelah menambahkan elemen baris ke-3:\n",
            "[2, 3, 6]\n",
            "[6, 7, 4]\n",
            "[3, 2, 5, 22]\n",
            "[3, 5, 6]\n"
          ]
        }
      ]
    },
    {
      "cell_type": "code",
      "source": [
        "# Latihan 7\n",
        "# 3.2 Operasi Dasar pada Array 2D\n",
        "# b. Menambah Elemen ke Array 2D\n",
        "matriks = []\n",
        "matriks.append([13,3,20,5])\n",
        "print(\"array kosong setelah ditambahkan baris baru:\")\n",
        "for baris in matriks:\n",
        "  print(baris)\n",
        "\n",
        "\n",
        "matrikss = [\n",
        "    [2,8,4,6],\n",
        "    [5,7,6,1],\n",
        "    [3,5,1,5]\n",
        "]\n",
        "matrikss.append([13,3,20,5])\n",
        "print(\"array setelah ditambahkan baris baru:\")\n",
        "for bariss in matrikss:\n",
        "  print(bariss)"
      ],
      "metadata": {
        "colab": {
          "base_uri": "https://localhost:8080/"
        },
        "id": "zrQpdc91fXj6",
        "outputId": "9a1a2948-c34e-47f8-ea58-bfcdf25e84d7"
      },
      "execution_count": 11,
      "outputs": [
        {
          "output_type": "stream",
          "name": "stdout",
          "text": [
            "array kosong setelah ditambahkan baris baru:\n",
            "[13, 3, 20, 5]\n",
            "array setelah ditambahkan baris baru:\n",
            "[2, 8, 4, 6]\n",
            "[5, 7, 6, 1]\n",
            "[3, 5, 1, 5]\n",
            "[13, 3, 20, 5]\n"
          ]
        }
      ]
    },
    {
      "cell_type": "code",
      "source": [
        "# 3.2 Operasi Dasar pada Array 2D\n",
        "# c. Menghapus Elemen dari Array 2D\n",
        "# Menghapus elemen tertentu dari baris ke-2\n",
        "matrix = [\n",
        "    [23,12,34,44],\n",
        "    [55,30,95,55],\n",
        "    [24,66,83,5],\n",
        "    [3,6,5,3]\n",
        "]\n",
        "matrix[1].remove(95)\n",
        "print(\"array setelah menghapus elemen baris ke-2:\")\n",
        "for bb in matrix:\n",
        "  print(bb)\n",
        "\n",
        "# Menghapus elemen pada indeks tertentu dari baris ke-4\n",
        "matrix[3].pop(0)\n",
        "print(\"array setelah menghapus elemen indeks ke-0 dari baris ke-4:\")\n",
        "for baris in matrix:\n",
        "  print(baris)"
      ],
      "metadata": {
        "colab": {
          "base_uri": "https://localhost:8080/"
        },
        "id": "ONw-BIPBicB-",
        "outputId": "4bbc7602-0e1c-46cd-8f0d-d1ab26ad35d4"
      },
      "execution_count": 17,
      "outputs": [
        {
          "output_type": "stream",
          "name": "stdout",
          "text": [
            "array setelah menghapus elemen baris ke-2:\n",
            "[23, 12, 34, 44]\n",
            "[55, 30, 55]\n",
            "[24, 66, 83, 5]\n",
            "[3, 6, 5, 3]\n",
            "array setelah menghapus elemen indeks ke-0 dari baris ke-4:\n",
            "[23, 12, 34, 44]\n",
            "[55, 30, 55]\n",
            "[24, 66, 83, 5]\n",
            "[6, 5, 3]\n"
          ]
        }
      ]
    },
    {
      "cell_type": "code",
      "source": [
        "# Latihan 8\n",
        "# 3.2 Operasi Dasar pada Array 2D\n",
        "# c. Menghapus Elemen dari Array 2D\n",
        "# dibawah merupakan array yang digunakan pada latihan sebelumnya\n",
        "matrikss = [\n",
        "    [2,8,4,6],\n",
        "    [5,7,6,1],\n",
        "    [3,5,1,5]\n",
        "]\n",
        "matrikss[2].pop(2)\n",
        "print(\"array setelah menghapus elemen ke-3 dari baris terakhir:\")\n",
        "for besar in matrikss:\n",
        "  print(besar)"
      ],
      "metadata": {
        "colab": {
          "base_uri": "https://localhost:8080/"
        },
        "id": "j6Nahnm5let5",
        "outputId": "0283c416-410f-4dc9-c5c4-65d7194ec277"
      },
      "execution_count": 19,
      "outputs": [
        {
          "output_type": "stream",
          "name": "stdout",
          "text": [
            "array setelah menghapus elemen ke-3 dari baris terakhir:\n",
            "[2, 8, 4, 6]\n",
            "[5, 7, 6, 1]\n",
            "[3, 5, 5]\n"
          ]
        }
      ]
    },
    {
      "cell_type": "code",
      "source": [
        "# 3.2 Operasi Dasar pada Array 2D\n",
        "# d. Mengubah Elemen dalam Array 2D\n",
        "# Mengubah Elemen pada baris ke-2,kolom ke-4\n",
        "matrix = [\n",
        "    [23,12,34,44],\n",
        "    [55,30,95,55],\n",
        "    [24,66,83,5],\n",
        "    [3,6,5,3]\n",
        "]\n",
        "matrix[1][3] = 100\n",
        "print(\"array setelah mengubah elemen baris ke-2,kolom ke-4:\")\n",
        "for baris in matrix:\n",
        "  print(baris)"
      ],
      "metadata": {
        "colab": {
          "base_uri": "https://localhost:8080/"
        },
        "id": "-7IphYw0nFrw",
        "outputId": "73550b29-2306-4c06-bade-491aa4071ccd"
      },
      "execution_count": 20,
      "outputs": [
        {
          "output_type": "stream",
          "name": "stdout",
          "text": [
            "array setelah mengubah elemen baris ke-2,kolom ke-4:\n",
            "[23, 12, 34, 44]\n",
            "[55, 30, 95, 100]\n",
            "[24, 66, 83, 5]\n",
            "[3, 6, 5, 3]\n"
          ]
        }
      ]
    },
    {
      "cell_type": "code",
      "source": [
        "# Latihan 9\n",
        "# 3.2 Operasi Dasar pada Array 2D\n",
        "# d. Mengubah Elemen dalam Array 2D\n",
        "matrix =  [\n",
        "    [2,8,4,6],\n",
        "    [5,7,6,1],\n",
        "    [3,5,1,5]\n",
        "]\n",
        "matrix[2][3]= 19\n",
        "print(\"array setelah mengubah elemen baris dan kolom terakhir dengan tanggal hari ini:\")\n",
        "for baris in matrix:\n",
        "  print(baris)"
      ],
      "metadata": {
        "colab": {
          "base_uri": "https://localhost:8080/"
        },
        "id": "mrQhtLKjvQZE",
        "outputId": "9fae8f05-d4c8-49d4-e694-f8ae0342ca31"
      },
      "execution_count": 22,
      "outputs": [
        {
          "output_type": "stream",
          "name": "stdout",
          "text": [
            "array setelah mengubah elemen baris dan kolom terakhir dengan tanggal hari ini:\n",
            "[2, 8, 4, 6]\n",
            "[5, 7, 6, 1]\n",
            "[3, 5, 1, 19]\n"
          ]
        }
      ]
    },
    {
      "cell_type": "code",
      "source": [
        "# 4 Studi Kasus Sederhana\n",
        "# 4.1 Menyimpan Daftar Belanja\n",
        "belanja = [\"beras\",\"gula\",\"minyak\"]\n",
        "belanja.append(\"teh\")\n",
        "belanja.remove(\"gula\")\n",
        "print(\"Daftar belanja terbaru\",belanja)"
      ],
      "metadata": {
        "colab": {
          "base_uri": "https://localhost:8080/"
        },
        "id": "niz2dnS6wtZG",
        "outputId": "5a525cd8-08d2-4cf3-a233-a3105046839c"
      },
      "execution_count": 23,
      "outputs": [
        {
          "output_type": "stream",
          "name": "stdout",
          "text": [
            "Daftar belanja terbaru ['beras', 'minyak', 'teh']\n"
          ]
        }
      ]
    },
    {
      "cell_type": "code",
      "source": [
        "# Latihan 10\n",
        "# 4 Studi Kasus Sederhana\n",
        "# 4.1 Menyimpan Daftar Belanja\n",
        "cart = [\"Mouse\",\"Ram 8Gb\",\"Keyboard\",\"SSD 1Tb\"]\n",
        "cart.append(\"Monitor\")\n",
        "cart.remove(\"Mouse\")\n",
        "cart.pop(0)\n",
        "print(\"Daftar keranjang terbaru:\",cart)"
      ],
      "metadata": {
        "colab": {
          "base_uri": "https://localhost:8080/"
        },
        "id": "Yj2na-qjyHdc",
        "outputId": "0bff370c-c7ae-4608-a3a5-ff3e7b230525"
      },
      "execution_count": 30,
      "outputs": [
        {
          "output_type": "stream",
          "name": "stdout",
          "text": [
            "Daftar keranjang terbaru: ['Keyboard', 'SSD 1Tb', 'Monitor']\n"
          ]
        }
      ]
    },
    {
      "cell_type": "code",
      "source": [
        "# Latihan 11\n",
        "# Tuliskan analisis anda mengenai baris kode \"Treasure Hunt\" ini beserta outputnya\n",
        "\n",
        "# ukuran peta\n",
        "size = 10\n",
        "\n",
        "# Membuat peta dengan harta karun tersembunyi\n",
        "treasure_map = [\"_\" for _ in range (size)]\n",
        "\n",
        "# Tentukan lokasi harta karun secara manual\n",
        "print(f\"Selamat datang di Treasure Hunt! Peta memiliki {size} lokasi (0 hingga {size-1}).\")\n",
        "\n",
        "treasure_index = int(input(f\"Masukkan lokasi harta karun (0 - {size-1})\"))\n",
        "while treasure_index < 0 or treasure_index >= size:\n",
        "  print(\"Lokasi tidak valid. Masukkan angka dalam rentang yang benar.\")\n",
        "  treasur_index = int(input(f\"Masukkan lokasi harta karun (0-{size-1}):\"))\n",
        "\n",
        "treasure_map[treasure_index] = \"x\" # menyembunyikan harta karun di lokasi yang dipilih\n",
        "\n",
        "# fungsi untuk memulai permainan\n",
        "def play_treasure_hunt():\n",
        "  print(\"\\nHarta karun telah disembunyikan ! Sekarang giliran pemain menebak.\")\n",
        "  print(\"cobalah untuk menemukan harta karun dengan menebak indeks yang benar.\")\n",
        "\n",
        "  # Loop permainan\n",
        "  while True:\n",
        "    # Menampilkan peta tersembunyi kepada pemain\n",
        "    print(\"\\nPeta saat ini : \",[\"_\" for _ in range(size)]) # Peta tersembunyi\n",
        "    # Input pemain\n",
        "    try :\n",
        "      guess = int(input(f\"Masukkan indeks tebakanmu (0-{size-1})\"))\n",
        "    except ValueError:\n",
        "      continue\n",
        "    # validasi input\n",
        "    if guess < 0 or guess >= size:\n",
        "      print(\"Indeks tidak valid,pilih antara 0 hingga\", size-1)\n",
        "      continue\n",
        "\n",
        "    # Mengecek apakah tebakan benar\n",
        "    if treasure_map[guess] == \"x\":\n",
        "      print(\"🎉🎉🎉 Selamat ! kamu menemukan harta karun di lokasi :\", guess)\n",
        "      break\n",
        "    else:\n",
        "      print(\"❌❌❌ Tidak ada harta di lokasi ini. Coba lagi!\")\n",
        "  print(\"Terima kasih sudah bermain!\")\n",
        "\n",
        "# Jalankan permainan\n",
        "play_treasure_hunt()"
      ],
      "metadata": {
        "colab": {
          "base_uri": "https://localhost:8080/"
        },
        "id": "YYNeucXizpep",
        "outputId": "80dce38e-d81b-4b15-a998-6c35c861f688"
      },
      "execution_count": 33,
      "outputs": [
        {
          "output_type": "stream",
          "name": "stdout",
          "text": [
            "Selamat datang di Treasure Hunt! Peta memiliki 10 lokasi (0 hingga 9).\n",
            "Masukkan lokasi harta karun (0 - 9)9\n",
            "\n",
            "Harta karun telah disembunyikan ! Sekarang giliran pemain menebak.\n",
            "cobalah untuk menemukan harta karun dengan menebak indeks yang benar.\n",
            "\n",
            "Peta saat ini :  ['_', '_', '_', '_', '_', '_', '_', '_', '_', '_']\n",
            "Masukkan indeks tebakanmu (0-9)9\n",
            "🎉🎉🎉 Selamat ! kamu menemukan harta karun di lokasi : 9\n",
            "Terima kasih sudah bermain!\n"
          ]
        }
      ]
    },
    {
      "cell_type": "code",
      "source": [],
      "metadata": {
        "id": "ZBcTKosq3HRZ"
      },
      "execution_count": null,
      "outputs": []
    }
  ]
}