{
  "nbformat": 4,
  "nbformat_minor": 0,
  "metadata": {
    "colab": {
      "provenance": [],
      "authorship_tag": "ABX9TyO4Ql0Pm5buT1IKLmh4lLwh",
      "include_colab_link": true
    },
    "kernelspec": {
      "name": "python3",
      "display_name": "Python 3"
    },
    "language_info": {
      "name": "python"
    }
  },
  "cells": [
    {
      "cell_type": "markdown",
      "metadata": {
        "id": "view-in-github",
        "colab_type": "text"
      },
      "source": [
        "<a href=\"https://colab.research.google.com/github/assepwahid5/Struktur-Data/blob/main/2420506028_Tugas_Strukdat_Tree.ipynb\" target=\"_parent\"><img src=\"https://colab.research.google.com/assets/colab-badge.svg\" alt=\"Open In Colab\"/></a>"
      ]
    },
    {
      "cell_type": "code",
      "source": [
        "class Node:\n",
        "  def __init__(self, data):\n",
        "    self.data = data          # Menyimpan nilai data node\n",
        "    self.left = None          # Menunjuk ke anak kiri\n",
        "    self.right = None         # Menunjuk ke anak kanan\n",
        "\n",
        "# Membuat tree secara manual sesuai struktur ketentuan tugas\n",
        "root = Node(10)            # Node root\n",
        "root.left = Node(4)     # Anak kiri dari root\n",
        "root.right = Node(28)     # Anak kanan dari root\n",
        "root.left.left = Node(13)   # Anak kiri dari node kiri\n",
        "root.right.right = Node(3)    # Anak kanan dari node kanan\n",
        "\n",
        "# Fungsi untuk traversal inorder (kiri - akar - kanan)\n",
        "def inorder(node):\n",
        "  if node:\n",
        "    inorder(node.left)        # Telusuri anak kiri\n",
        "    print(node.data, end=' ') # Cetak data node saat ini\n",
        "    inorder(node.right)       # Telusuri anak kanan\n",
        "\n",
        "# Menampilkan hasil traversal inorder dari tree yang dibentuk\n",
        "print(\"Struktur Tree berdasarkan identitas saya:\")\n",
        "inorder(root)"
      ],
      "metadata": {
        "colab": {
          "base_uri": "https://localhost:8080/"
        },
        "id": "xUu9hlQbwspY",
        "outputId": "4be07bce-a85a-42ac-eb56-13a6df5eb7a0"
      },
      "execution_count": null,
      "outputs": [
        {
          "output_type": "stream",
          "name": "stdout",
          "text": [
            "Struktur Tree berdasarkan identitas saya:\n",
            "13 4 10 28 3 "
          ]
        }
      ]
    },
    {
      "cell_type": "code",
      "source": [
        "# Definisi class Node untuk merepresentasikan setiap simpul pada tree\n",
        "class Node:\n",
        "  def __init__(self, data):\n",
        "    self.data = data        # Menyimpan nilai data node\n",
        "    self.left = None        # Pointer ke anak kiri\n",
        "    self.right = None       # Pointer ke anak kanan\n",
        "\n",
        "# Definisi class BST (Binary Search Tree)\n",
        "class BinarySearchTree:\n",
        "  def __init__(self):\n",
        "    self.root = None        # Inisialisasi root sebagai None\n",
        "\n",
        "  # Fungsi untuk menyisipkan data ke dalam BST\n",
        "  def insert(self, root, data):\n",
        "    if root is None:        # Jika node kosong, buat node baru\n",
        "      return Node(data)\n",
        "    if data < root.data:    # Jika data lebih kecil, sisip ke kiri\n",
        "      root.left = self.insert(root.left, data)\n",
        "    else:                   # Jika data lebih besar atau sama, sisip ke kanan\n",
        "      root.right = self.insert(root.right, data)\n",
        "    return root             # Kembalikan node yang telah dimodifikasi\n",
        "\n",
        "# Inisialisasi BST dan data awal\n",
        "bst = BinarySearchTree()\n",
        "root = None\n",
        "data_list = [28, 13, 3, 65, 83, 22, 24]  # Data yang akan disisipkan\n",
        "\n",
        "# Menyisipkan setiap data ke dalam BST\n",
        "for value in data_list:\n",
        "  root = bst.insert(root, value)\n",
        "\n",
        "# Fungsi traversal inorder: kiri - akar - kanan\n",
        "def inorder(node):\n",
        "  if node:\n",
        "    inorder(node.left)\n",
        "    print(node.data, end=' ')  # Cetak data node\n",
        "    inorder(node.right)\n",
        "\n",
        "# Fungsi traversal preorder: akar - kiri - kanan\n",
        "def preorder(node):\n",
        "  if node:\n",
        "    print(node.data, end=' ')  # Cetak data node\n",
        "    preorder(node.left)\n",
        "    preorder(node.right)\n",
        "\n",
        "# Fungsi traversal postorder: kiri - kanan - akar\n",
        "def postorder(node):\n",
        "  if node:\n",
        "    postorder(node.left)\n",
        "    postorder(node.right)\n",
        "    print(node.data, end=' ')  # Cetak data node\n",
        "\n",
        "# Menampilkan hasil traversal\n",
        "print(\"Inorder Traversal :\")\n",
        "inorder(root)\n",
        "print(\"\\nPreorder Traversal :\")\n",
        "preorder(root)\n",
        "print(\"\\nPostorder Traversal :\")\n",
        "postorder(root)\n",
        "\n",
        "# Fungsi pencarian data dalam BST\n",
        "def search(node, key):\n",
        "  if node is None or node.data == key:   # Jika node kosong atau ditemukan\n",
        "    return node\n",
        "  if key < node.data:                    # Jika data lebih kecil, cari di kiri\n",
        "    return search(node.left, key)\n",
        "  return search(node.right, key)         # Jika lebih besar, cari di kanan\n",
        "\n",
        "# Mencari nilai 28 dalam BST\n",
        "key = 28\n",
        "result = search(root, key)\n",
        "if result:\n",
        "  print(f\"\\n{key} ditemukan dalam tree\")  # Jika ditemukan\n",
        "else:\n",
        "  print(f\"{key} tidak ditemukan\")\n",
        "\n",
        "# Mencari nilai 66 yang tidak ada dalam BST\n",
        "key = 66\n",
        "result = search(root, key)\n",
        "if result:\n",
        "  print(f\"{key} ditemukan dalam tree\")   # Jika ditemukan\n",
        "else:\n",
        "  print(f\"{key} tidak ditemukan\")        # Jika tidak ditemukan\n"
      ],
      "metadata": {
        "colab": {
          "base_uri": "https://localhost:8080/"
        },
        "id": "XD1KTSnj04RM",
        "outputId": "fa86027b-b986-4f65-ac0c-31c6de6c8fe7"
      },
      "execution_count": 7,
      "outputs": [
        {
          "output_type": "stream",
          "name": "stdout",
          "text": [
            "Inorder Traversal :\n",
            "3 13 22 24 28 65 83 \n",
            "Preorder Traversal :\n",
            "28 13 3 22 24 65 83 \n",
            "Postorder Traversal :\n",
            "3 24 22 13 83 65 28 \n",
            "28 ditemukan dalam tree\n",
            "66 tidak ditemukan\n"
          ]
        }
      ]
    }
  ]
}