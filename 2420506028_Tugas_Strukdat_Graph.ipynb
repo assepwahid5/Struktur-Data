{
  "nbformat": 4,
  "nbformat_minor": 0,
  "metadata": {
    "colab": {
      "provenance": [],
      "authorship_tag": "ABX9TyMuAe5isKCR8Z8Ow3W3MKI7",
      "include_colab_link": true
    },
    "kernelspec": {
      "name": "python3",
      "display_name": "Python 3"
    },
    "language_info": {
      "name": "python"
    }
  },
  "cells": [
    {
      "cell_type": "markdown",
      "metadata": {
        "id": "view-in-github",
        "colab_type": "text"
      },
      "source": [
        "<a href=\"https://colab.research.google.com/github/assepwahid5/Struktur-Data/blob/main/2420506028_Tugas_Strukdat_Graph.ipynb\" target=\"_parent\"><img src=\"https://colab.research.google.com/assets/colab-badge.svg\" alt=\"Open In Colab\"/></a>"
      ]
    },
    {
      "cell_type": "code",
      "execution_count": 11,
      "metadata": {
        "id": "UdOqOByDR6jl",
        "colab": {
          "base_uri": "https://localhost:8080/"
        },
        "outputId": "a64fded0-5748-4fe5-fd45-46c378bd128a"
      },
      "outputs": [
        {
          "output_type": "stream",
          "name": "stdout",
          "text": [
            "{'A': 2, 'B': 3, 'C': 2, 'D': 1, 'E': 2, 'F': 2}\n"
          ]
        }
      ],
      "source": [
        "# Lengkapi fungsi untuk menghitung jumlah tetangga dari tiap simpul dalam graf\n",
        "graph = {\n",
        "    'A': ['B', 'C'],\n",
        "    'B': ['A', 'D', 'E'],\n",
        "    'C': ['A', 'F'],\n",
        "    'D': ['B'],\n",
        "    'E': ['B', 'F'],\n",
        "    'F': ['C', 'E']\n",
        "}\n",
        "\n",
        "def count_neighbors(graph):\n",
        "  result = {}\n",
        "  for node in graph:\n",
        "    # Hitung jumlah tetangga\n",
        "    result[node] = len(graph[node])\n",
        "  return result\n",
        "\n",
        "print(count_neighbors(graph))"
      ]
    },
    {
      "cell_type": "code",
      "source": [
        "# Buatlah graf tak berarah baru dengan minimal 5 simpul dan 7 sisi, lalu tampilkan dengan fungsi print_graph.\n",
        "\n",
        "graph_undirected = {\n",
        "    'A': ['B', 'C'],\n",
        "    'B': ['A', 'D', 'E'],\n",
        "    'C': ['A', 'D'],\n",
        "    'D': ['B', 'C', 'E'],\n",
        "    'E': ['B', 'D', 'F'],\n",
        "    'F': ['C', 'A']\n",
        "}\n",
        "def print_graph(graph):\n",
        "    for node in graph_undirected:\n",
        "        print(f\"{node} -> {graph[node]}\")\n",
        "\n",
        "print_graph(graph_undirected)"
      ],
      "metadata": {
        "colab": {
          "base_uri": "https://localhost:8080/"
        },
        "id": "suqQVmKjpDO9",
        "outputId": "cd871ac0-19ad-4176-ffb7-748a3067e1e0"
      },
      "execution_count": 13,
      "outputs": [
        {
          "output_type": "stream",
          "name": "stdout",
          "text": [
            "A -> ['B', 'C']\n",
            "B -> ['A', 'D', 'E']\n",
            "C -> ['A', 'D']\n",
            "D -> ['B', 'C', 'E']\n",
            "E -> ['B', 'D', 'F']\n",
            "F -> ['C', 'A']\n"
          ]
        }
      ]
    },
    {
      "cell_type": "code",
      "source": [
        "from collections import deque\n",
        "\n",
        "# Definisi graph menggunakan dictionary, di mana setiap node memiliki list tetangga (neighbors)\n",
        "graph = {\n",
        "    'A': ['B', 'C'],\n",
        "    'B': ['A', 'D', 'E'],\n",
        "    'C': ['A', 'D'],\n",
        "    'D': ['B', 'C', 'E'],\n",
        "    'E': ['B', 'D', 'F'],\n",
        "    'F': ['C', 'A']\n",
        "}\n",
        "\n",
        "# Fungsi BFS (Breadth-First Search)\n",
        "def bfs(graph, start):\n",
        "    visited = set()                  # Set untuk menyimpan node yang sudah dikunjungi\n",
        "    queue = deque([start])           # Queue (FIFO) untuk menyimpan node yang akan dikunjungi\n",
        "    while queue:\n",
        "        vertex = queue.popleft()     # Ambil elemen depan dari queue\n",
        "        if vertex not in visited:    # Jika node belum dikunjungi\n",
        "            print(vertex, end=\" \")   # Cetak node tersebut\n",
        "            visited.add(vertex)      # Tandai node sebagai sudah dikunjungi\n",
        "            # Tambahkan tetangga yang belum dikunjungi ke queue\n",
        "            queue.extend([v for v in graph[vertex] if v not in visited])\n",
        "\n",
        "# Fungsi DFS (Depth-First Search)\n",
        "def dfs(graph, start, visited=None):\n",
        "    if visited is None:\n",
        "        visited = set()              # Set untuk menyimpan node yang sudah dikunjungi\n",
        "    if start not in visited:         # Jika node belum dikunjungi\n",
        "        print(start, end=\" \")        # Cetak node tersebut\n",
        "        visited.add(start)           # Tandai node sebagai sudah dikunjungi\n",
        "        # Rekursif panggil DFS untuk setiap tetangga node tersebut\n",
        "        for neighbor in graph[start]:\n",
        "            dfs(graph, neighbor, visited)\n",
        "\n",
        "# Menjalankan BFS mulai dari node 'A'\n",
        "print(\"BFS:\")\n",
        "bfs(graph, 'A')\n",
        "\n",
        "# Menjalankan DFS mulai dari node 'A'\n",
        "print(\"\\nDFS:\")\n",
        "dfs(graph, 'A')"
      ],
      "metadata": {
        "colab": {
          "base_uri": "https://localhost:8080/"
        },
        "id": "aBtr5Lwst3jJ",
        "outputId": "30857cef-18ff-4094-b19b-8fb6af67e01d"
      },
      "execution_count": 14,
      "outputs": [
        {
          "output_type": "stream",
          "name": "stdout",
          "text": [
            "BFS:\n",
            "A B C D E F \n",
            "DFS:\n",
            "A B D C E F "
          ]
        }
      ]
    },
    {
      "cell_type": "code",
      "source": [
        "# Definisi graph menggunakan dictionary, di mana setiap node memiliki list tetangga (neighbors)\n",
        "graph = {\n",
        "    'A': ['B', 'C'],\n",
        "    'B': ['A', 'D', 'E'],\n",
        "    'C': ['A', 'D'],\n",
        "    'D': ['B', 'C', 'E'],\n",
        "    'E': ['B', 'D', 'F'],\n",
        "    'F': ['C', 'A']\n",
        "}\n",
        "\n",
        "def bfs_list(graph, start):\n",
        "    visited = set()  # Set untuk menyimpan node yang sudah dikunjungi agar tidak berulang\n",
        "    queue = deque([start])  # Queue menggunakan deque untuk FIFO, mulai dari node start\n",
        "    result = []  # List untuk menyimpan urutan node yang dikunjungi\n",
        "\n",
        "    while queue:  # Selama queue tidak kosong\n",
        "        vertex = queue.popleft()  # Ambil node paling depan dari queue\n",
        "        if vertex not in visited:  # Jika node belum dikunjungi\n",
        "            result.append(vertex)  # Tambahkan ke hasil kunjungan\n",
        "            visited.add(vertex)  # Tandai node sebagai sudah dikunjungi\n",
        "            # Tambahkan tetangga node yang belum dikunjungi ke dalam queue\n",
        "            queue.extend([v for v in graph[vertex] if v not in visited])\n",
        "    return result\n",
        "\n",
        "bfs_result = bfs_list(graph, 'A')\n",
        "print(\"Urutan BFS (list):\", \" -> \".join(bfs_result))"
      ],
      "metadata": {
        "colab": {
          "base_uri": "https://localhost:8080/"
        },
        "id": "AwHe2hKmvqgh",
        "outputId": "f5cb7b33-05eb-4160-f1ca-c7b5f443d83e"
      },
      "execution_count": 24,
      "outputs": [
        {
          "output_type": "stream",
          "name": "stdout",
          "text": [
            "Urutan BFS (list): A -> B -> C -> D -> E -> F\n"
          ]
        }
      ]
    },
    {
      "cell_type": "code",
      "source": [
        "# Definisi graph menggunakan dictionary, di mana setiap node memiliki list tetangga (neighbors)\n",
        "graph = {\n",
        "    'A': ['B', 'C'],\n",
        "    'B': ['A', 'D', 'E'],\n",
        "    'C': ['A', 'D'],\n",
        "    'D': ['B', 'C', 'E'],\n",
        "    'E': ['B', 'D', 'F'],\n",
        "    'F': ['C', 'A']\n",
        "}\n",
        "\n",
        "def find_path(graph, start, end, path=None):\n",
        "    if path is None:\n",
        "        path = []  # Inisialisasi jalur kosong jika belum ada\n",
        "\n",
        "    path = path + [start]  # Tambahkan simpul saat ini ke jalur\n",
        "\n",
        "    if start == end:\n",
        "        return path  # Jika simpul tujuan ditemukan, kembalikan jalur\n",
        "\n",
        "    # Telusuri simpul tetangga dari simpul saat ini\n",
        "    for node in graph[start]:\n",
        "        if node not in path:  # Hindari simpul yang sudah dikunjungi (hindari siklus)\n",
        "            new_path = find_path(graph, node, end, path)\n",
        "            if new_path:  # Jika ditemukan jalur valid, kembalikan jalur tersebut\n",
        "                return new_path\n",
        "\n",
        "    return None  # Jika tidak ada jalur ditemukan, kembalikan None\n",
        "\n",
        "print(\"Rute dari A ke F:\", find_path(graph, 'A', 'F'))"
      ],
      "metadata": {
        "colab": {
          "base_uri": "https://localhost:8080/"
        },
        "id": "4lnzKVCBzt8t",
        "outputId": "38f2cf1f-9097-4005-afcd-bde842a13622"
      },
      "execution_count": 26,
      "outputs": [
        {
          "output_type": "stream",
          "name": "stdout",
          "text": [
            "Rute dari A ke F: ['A', 'B', 'D', 'E', 'F']\n"
          ]
        }
      ]
    },
    {
      "cell_type": "code",
      "source": [
        "# Definisi graph menggunakan dictionary, di mana setiap node memiliki list tetangga (neighbors)\n",
        "graph = {\n",
        "    'A': ['B', 'C'],\n",
        "    'B': ['A', 'D', 'E'],\n",
        "    'C': ['A', 'D'],\n",
        "    'D': ['B', 'C', 'E'],\n",
        "    'E': ['B', 'D', 'F'],\n",
        "    'F': ['C', 'A']\n",
        "}\n",
        "def is_connected(graph):\n",
        "    visited = set()\n",
        "    def dfs_check(v):\n",
        "        visited.add(v)\n",
        "        for neighbor in graph[v]:\n",
        "            if neighbor not in visited:\n",
        "                dfs_check(neighbor)\n",
        "    start = next(iter(graph))\n",
        "    dfs_check(start)\n",
        "    if len(visited) == len(graph):\n",
        "      return (\"Semua simpul graf saling terhubung\")\n",
        "    else:\n",
        "      return (\"Semua simpul graf tidak terhubung\")\n",
        "print(is_connected(graph))"
      ],
      "metadata": {
        "colab": {
          "base_uri": "https://localhost:8080/"
        },
        "id": "O8t-PmgH173n",
        "outputId": "2658e285-c50e-488b-e8bf-79f71aadc8ef"
      },
      "execution_count": 28,
      "outputs": [
        {
          "output_type": "stream",
          "name": "stdout",
          "text": [
            "Semua simpul graf saling terhubung\n"
          ]
        }
      ]
    }
  ]
}