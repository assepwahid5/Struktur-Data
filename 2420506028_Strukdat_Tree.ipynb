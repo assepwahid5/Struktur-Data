{
  "nbformat": 4,
  "nbformat_minor": 0,
  "metadata": {
    "colab": {
      "provenance": [],
      "authorship_tag": "ABX9TyOqXRsiJ423WS/c9UxHYZ3b",
      "include_colab_link": true
    },
    "kernelspec": {
      "name": "python3",
      "display_name": "Python 3"
    },
    "language_info": {
      "name": "python"
    }
  },
  "cells": [
    {
      "cell_type": "markdown",
      "metadata": {
        "id": "view-in-github",
        "colab_type": "text"
      },
      "source": [
        "<a href=\"https://colab.research.google.com/github/assepwahid5/Struktur-Data/blob/main/2420506028_Strukdat_Tree.ipynb\" target=\"_parent\"><img src=\"https://colab.research.google.com/assets/colab-badge.svg\" alt=\"Open In Colab\"/></a>"
      ]
    },
    {
      "cell_type": "code",
      "execution_count": 5,
      "metadata": {
        "colab": {
          "base_uri": "https://localhost:8080/"
        },
        "id": "axkLdNtrN9FS",
        "outputId": "ccf7da9d-63ab-4357-e866-f2602e676aae"
      },
      "outputs": [
        {
          "output_type": "stream",
          "name": "stdout",
          "text": [
            "hasil inorder traversal dari binary tree:\n",
            "4 2 5 1 3 "
          ]
        }
      ],
      "source": [
        "# Membuat Binary Tree Secara Manual\n",
        "class Node:\n",
        "  def __init__(self, data):\n",
        "    self.data = data\n",
        "    self.left = None\n",
        "    self.right = None\n",
        "\n",
        "# Membuat tree secara manual\n",
        "root = Node(1)\n",
        "root.left = Node(2)\n",
        "root.right = Node(3)\n",
        "root.left.left = Node(4)\n",
        "root.left.right = Node(5)\n",
        "\n",
        "# Fungsi inorder traversal\n",
        "def inorder(node):\n",
        "  if node:\n",
        "    inorder(node.left)\n",
        "    print(node.data, end=' ')\n",
        "    inorder(node.right)\n",
        "print(\"hasil inorder traversal dari binary tree:\")\n",
        "inorder(root)"
      ]
    },
    {
      "cell_type": "code",
      "source": [
        "# Membuat Binary Search Tree\n",
        "class Node:\n",
        "  def __init__(self,data):\n",
        "    self.data = data\n",
        "    self.left = None\n",
        "    self.right = None\n",
        "class BinarySearchTree:\n",
        "  def __init__(self):\n",
        "    self.root = None\n",
        "  def insert(self,root,data):\n",
        "    if root is None:\n",
        "      return Node(data)\n",
        "    if data < root.data:\n",
        "      root.left = self.insert(root.left,data)\n",
        "    else:\n",
        "      root.right = self.insert(root.right,data)\n",
        "    return root\n",
        "\n",
        "bst = BinarySearchTree()\n",
        "root = None\n",
        "data_list = [50,30,70,20,40,60,80]\n",
        "for value in data_list:\n",
        "  root = bst.insert(root,value)\n",
        "\n",
        "# Traversal pada BST\n",
        "def inorder(node):\n",
        "  if node:\n",
        "    inorder(node.left)\n",
        "    print(node.data,end=' ')\n",
        "    inorder(node.right)\n",
        "def preorder(node):\n",
        "  if node:\n",
        "    print(node.data,end=' ')\n",
        "    preorder(node.left)\n",
        "    preorder(node.right)\n",
        "def postorder(node):\n",
        "  if node:\n",
        "    postorder(node.left)\n",
        "    postorder(node.right)\n",
        "    print(node.data, end=' ')\n",
        "\n",
        "print(\"inorder traversal :\")\n",
        "inorder(root)\n",
        "print(\"\\nPreorder Traversal :\")\n",
        "preorder(root)\n",
        "print(\"\\npostorder Traversal :\")\n",
        "postorder(root)"
      ],
      "metadata": {
        "colab": {
          "base_uri": "https://localhost:8080/"
        },
        "id": "dWr660hWVF5I",
        "outputId": "5b4f80f5-1583-41f1-c757-ba5f3112f02f"
      },
      "execution_count": 11,
      "outputs": [
        {
          "output_type": "stream",
          "name": "stdout",
          "text": [
            "inorder traversal :\n",
            "20 30 40 50 60 70 80 \n",
            "Preorder Traversal :\n",
            "50 30 20 40 70 60 80 \n",
            "postorder Traversal :\n",
            "20 40 30 60 80 70 50 "
          ]
        }
      ]
    },
    {
      "cell_type": "code",
      "source": [
        "# Membuat Binary Search Tree\n",
        "class Node:\n",
        "  def __init__(self,data):\n",
        "    self.data = data\n",
        "    self.left = None\n",
        "    self.right = None\n",
        "class BinarySearchTree:\n",
        "  def __init__(self):\n",
        "    self.root = None\n",
        "  def insert(self,root,data):\n",
        "    if root is None:\n",
        "      return Node(data)\n",
        "    if data < root.data:\n",
        "      root.left = self.insert(root.left,data)\n",
        "    else:\n",
        "      root.right = self.insert(root.right,data)\n",
        "    return root\n",
        "\n",
        "bst = BinarySearchTree()\n",
        "root = None\n",
        "data_list = [50,30,70,20,40,60,80]\n",
        "for value in data_list:\n",
        "  root = bst.insert(root,value)\n",
        "\n",
        "def search(node, key):\n",
        "  if node is None or node.data == key:\n",
        "    return node\n",
        "  if key < node.data:\n",
        "    return search(node.left, key)\n",
        "  return search(node.right, key)\n",
        "\n",
        "# Uji Pencarian\n",
        "key = 60\n",
        "result = search(root, key)\n",
        "if result:\n",
        "  print(f\"\\n{key} ditemukan dalam tree\")\n",
        "else:\n",
        "  print(f\"{key} tidak ditemukan\")\n",
        "\n",
        "key = 25\n",
        "result = search(root, key)\n",
        "if result:\n",
        "  print(f\"{key} ditemukan dalam tree\")\n",
        "else:\n",
        "  print(f\"{key} tidak ditemukan\")"
      ],
      "metadata": {
        "colab": {
          "base_uri": "https://localhost:8080/"
        },
        "id": "lGUjHTMdpE9s",
        "outputId": "9cbbe603-b983-48b3-ab74-0e1a5cabb220"
      },
      "execution_count": 12,
      "outputs": [
        {
          "output_type": "stream",
          "name": "stdout",
          "text": [
            "\n",
            "60 ditemukan dalam tree\n",
            "25 tidak ditemukan\n"
          ]
        }
      ]
    },
    {
      "cell_type": "code",
      "source": [
        "# Membuat Binary Search Tree\n",
        "class Node:\n",
        "  def __init__(self,data):\n",
        "    self.data = data\n",
        "    self.left = None\n",
        "    self.right = None\n",
        "class BinarySearchTree:\n",
        "  def __init__(self):\n",
        "    self.root = None\n",
        "  def insert(self,root,data):\n",
        "    if root is None:\n",
        "      return Node(data)\n",
        "    if data < root.data:\n",
        "      root.left = self.insert(root.left,data)\n",
        "    else:\n",
        "      root.right = self.insert(root.right,data)\n",
        "    return root\n",
        "\n",
        "bst = BinarySearchTree()\n",
        "root = None\n",
        "data_list = [50,30,70,20,40,60,80]\n",
        "for value in data_list:\n",
        "  root = bst.insert(root,value)\n",
        "\n",
        "def search(node, key):\n",
        "  if node is None or node.data == key:\n",
        "    return node\n",
        "  if key < node.data:\n",
        "    return search(node.left, key)\n",
        "  return search(node.right, key)\n",
        "\n",
        "# Uji Pencarian\n",
        "key = 60\n",
        "result = search(root, key)\n",
        "if result:\n",
        "  print(f\"{key} ditemukan dalam tree\")\n",
        "else:\n",
        "  print(f\"{key} tidak ditemukan\")\n",
        "\n",
        "key = 25\n",
        "result = search(root, key)\n",
        "if result:\n",
        "  print(f\"{key} ditemukan dalam tree\")\n",
        "else:\n",
        "  print(f\"{key} tidak ditemukan\")"
      ],
      "metadata": {
        "id": "6W8mTl-uZ2zZ",
        "colab": {
          "base_uri": "https://localhost:8080/"
        },
        "outputId": "80352416-49dd-4515-83e2-93ea8b2ff359"
      },
      "execution_count": 7,
      "outputs": [
        {
          "output_type": "stream",
          "name": "stdout",
          "text": [
            "60 ditemukan dalam tree\n",
            "25 tidak ditemukan\n"
          ]
        }
      ]
    },
    {
      "cell_type": "code",
      "source": [],
      "metadata": {
        "id": "2Hli_zZ-bvbJ"
      },
      "execution_count": null,
      "outputs": []
    }
  ]
}