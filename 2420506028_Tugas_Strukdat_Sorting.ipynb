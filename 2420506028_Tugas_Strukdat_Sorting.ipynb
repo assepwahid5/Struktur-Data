{
  "nbformat": 4,
  "nbformat_minor": 0,
  "metadata": {
    "colab": {
      "provenance": [],
      "authorship_tag": "ABX9TyNkqKyyw6MBIoPbpR0OKW+r",
      "include_colab_link": true
    },
    "kernelspec": {
      "name": "python3",
      "display_name": "Python 3"
    },
    "language_info": {
      "name": "python"
    }
  },
  "cells": [
    {
      "cell_type": "markdown",
      "metadata": {
        "id": "view-in-github",
        "colab_type": "text"
      },
      "source": [
        "<a href=\"https://colab.research.google.com/github/assepwahid5/Struktur-Data/blob/main/2420506028_Tugas_Strukdat_Sorting.ipynb\" target=\"_parent\"><img src=\"https://colab.research.google.com/assets/colab-badge.svg\" alt=\"Open In Colab\"/></a>"
      ]
    },
    {
      "cell_type": "code",
      "source": [
        "# Program Sorting Produk di Marketplace\n",
        "# Program ini mengurutkan daftar produk berdasarkan harga atau rating menggunakan Bubble Sort\n",
        "\n",
        "def bubble_sort(arr, key):\n",
        "    n = len(arr)\n",
        "    for i in range(n - 1):  # Loop sebanyak jumlah elemen - 1\n",
        "        for j in range(n - i - 1):  # Loop membandingkan elemen satu per satu\n",
        "            if arr[j][key] > arr[j + 1][key]:  # Jika elemen lebih besar dari yang di sebelahnya\n",
        "                arr[j], arr[j + 1] = arr[j + 1], arr[j]  # Tukar posisi elemen\n",
        "\n",
        "def print_produk(produk):\n",
        "    print(\"\\nDaftar Produk Setelah Sorting:\")\n",
        "    for p in produk:\n",
        "        print(f\"Nama: {p['nama']}, Harga: Rp{p['harga']}, Rating: {p['rating']}\")\n",
        "\n",
        "# Daftar produk\n",
        "produk = [\n",
        "    {\"nama\": \"Samsung Galaxy A14\", \"harga\": 2500000, \"rating\": 4.6},\n",
        "    {\"nama\": \"Xiaomi Redmi Note 12\", \"harga\": 2800000, \"rating\": 4.7},\n",
        "    {\"nama\": \"Asus ROG Phone 6\", \"harga\": 10500000, \"rating\": 4.8},\n",
        "    {\"nama\": \"Realme C55\", \"harga\": 2200000, \"rating\": 4.5},\n",
        "    {\"nama\": \"iPhone 13\", \"harga\": 12500000, \"rating\": 4.9},\n",
        "    {\"nama\": \"Oppo A77s\", \"harga\": 3100000, \"rating\": 4.4}\n",
        "]\n",
        "\n",
        "# Menampilkan pilihan sorting ke pengguna\n",
        "print(\"Pilih metode sorting:\")\n",
        "print(\"1. Berdasarkan Harga (Termurah ke Termahal)\")\n",
        "print(\"2. Berdasarkan Rating (Terendah ke Tertinggi)\")\n",
        "\n",
        "# Menerima input dari pengguna\n",
        "pilihan = int(input(\"Masukkan pilihan (1/2): \"))\n",
        "\n",
        "# Menjalankan sorting sesuai pilihan pengguna\n",
        "if pilihan == 1:\n",
        "    bubble_sort(produk, \"harga\")  # Sorting berdasarkan harga\n",
        "elif pilihan == 2:\n",
        "    bubble_sort(produk, \"rating\")  # Sorting berdasarkan rating\n",
        "else:\n",
        "    print(\"Pilihan tidak valid.\")  # Jika input tidak valid, keluar dari program\n",
        "    exit()\n",
        "\n",
        "# Menampilkan daftar produk yang sudah diurutkan\n",
        "print_produk(produk)\n"
      ],
      "metadata": {
        "colab": {
          "base_uri": "https://localhost:8080/"
        },
        "id": "LP9HLsn_hCsz",
        "outputId": "4d3bc74b-423b-4e66-e777-8d62b07d56a6"
      },
      "execution_count": 2,
      "outputs": [
        {
          "output_type": "stream",
          "name": "stdout",
          "text": [
            "Pilih metode sorting:\n",
            "1. Berdasarkan Harga (Termurah ke Termahal)\n",
            "2. Berdasarkan Rating (Terendah ke Tertinggi)\n",
            "Masukkan pilihan (1/2): 2\n",
            "\n",
            "Daftar Produk Setelah Sorting:\n",
            "Nama: Oppo A77s, Harga: Rp3100000, Rating: 4.4\n",
            "Nama: Realme C55, Harga: Rp2200000, Rating: 4.5\n",
            "Nama: Samsung Galaxy A14, Harga: Rp2500000, Rating: 4.6\n",
            "Nama: Xiaomi Redmi Note 12, Harga: Rp2800000, Rating: 4.7\n",
            "Nama: Asus ROG Phone 6, Harga: Rp10500000, Rating: 4.8\n",
            "Nama: iPhone 13, Harga: Rp12500000, Rating: 4.9\n"
          ]
        }
      ]
    }
  ]
}