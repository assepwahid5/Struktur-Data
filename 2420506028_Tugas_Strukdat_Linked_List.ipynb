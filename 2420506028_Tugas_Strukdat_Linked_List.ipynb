{
  "nbformat": 4,
  "nbformat_minor": 0,
  "metadata": {
    "colab": {
      "provenance": [],
      "authorship_tag": "ABX9TyMQBhPRpYVDZfnKR25vor/3",
      "include_colab_link": true
    },
    "kernelspec": {
      "name": "python3",
      "display_name": "Python 3"
    },
    "language_info": {
      "name": "python"
    }
  },
  "cells": [
    {
      "cell_type": "markdown",
      "metadata": {
        "id": "view-in-github",
        "colab_type": "text"
      },
      "source": [
        "<a href=\"https://colab.research.google.com/github/assepwahid5/Struktur-Data/blob/main/2420506028_Tugas_Strukdat_Linked_List.ipynb\" target=\"_parent\"><img src=\"https://colab.research.google.com/assets/colab-badge.svg\" alt=\"Open In Colab\"/></a>"
      ]
    },
    {
      "cell_type": "code",
      "execution_count": 2,
      "metadata": {
        "colab": {
          "base_uri": "https://localhost:8080/"
        },
        "id": "z6lAs2rbbINy",
        "outputId": "6361e0d3-b952-422a-fe44-0eeacdbd0c8e"
      },
      "outputs": [
        {
          "output_type": "stream",
          "name": "stdout",
          "text": [
            "Masukkan 4 nama satpam:\n",
            "Nama satpam ke-1: Assep\n",
            "Nama satpam ke-2: Hakkan\n",
            "Nama satpam ke-3: Yasabuana\n",
            "Nama satpam ke-4: Aldiyan\n",
            "\n",
            "Jadwal Piket Satpam Selama 2 Minggu:\n",
            "Hari 1: Assep\n",
            "Hari 2: Hakkan\n",
            "Hari 3: Yasabuana\n",
            "Hari 4: Aldiyan\n",
            "Hari 5: Assep\n",
            "Hari 6: Hakkan\n",
            "Hari 7: Yasabuana\n",
            "Hari 8: Aldiyan\n",
            "Hari 9: Assep\n",
            "Hari 10: Hakkan\n",
            "Hari 11: Yasabuana\n",
            "Hari 12: Aldiyan\n",
            "Hari 13: Assep\n",
            "Hari 14: Hakkan\n"
          ]
        }
      ],
      "source": [
        "class Node:\n",
        "    def __init__(self, name):\n",
        "        self.name = name  # Menyimpan nama satpam\n",
        "        self.next = None  # Pointer ke node berikutnya\n",
        "\n",
        "class CircularLinkedList:\n",
        "    def __init__(self):\n",
        "        self.head = None  # Awalnya kosong\n",
        "\n",
        "    def add_satpam(self, name):\n",
        "        new_node = Node(name)\n",
        "        if not self.head:\n",
        "            self.head = new_node\n",
        "            self.head.next = self.head  # Circular, menunjuk ke dirinya sendiri\n",
        "        else:\n",
        "            temp = self.head\n",
        "            while temp.next != self.head:\n",
        "                temp = temp.next\n",
        "            temp.next = new_node\n",
        "            new_node.next = self.head  # Tetap circular\n",
        "\n",
        "    def print_schedule(self, days=14):\n",
        "        if not self.head:\n",
        "            print(\"Jadwal kosong!\")\n",
        "            return\n",
        "\n",
        "        temp = self.head\n",
        "        print(\"\\nJadwal Piket Satpam Selama 2 Minggu:\")\n",
        "        for day in range(1, days + 1):\n",
        "            print(f\"Hari {day}: {temp.name}\")\n",
        "            temp = temp.next  # Pindah ke satpam berikutnya\n",
        "\n",
        "# --- Program Utama --- #\n",
        "print(\"Masukkan 4 nama satpam:\")\n",
        "satpam_list = CircularLinkedList()\n",
        "for i in range(4):\n",
        "    name = input(f\"Nama satpam ke-{i+1}: \")\n",
        "    satpam_list.add_satpam(name)\n",
        "\n",
        "satpam_list.print_schedule()"
      ]
    }
  ]
}