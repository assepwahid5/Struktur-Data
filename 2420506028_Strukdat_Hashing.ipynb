{
  "nbformat": 4,
  "nbformat_minor": 0,
  "metadata": {
    "colab": {
      "provenance": [],
      "authorship_tag": "ABX9TyNhzlpX+MGEL0DboGpTmD8f",
      "include_colab_link": true
    },
    "kernelspec": {
      "name": "python3",
      "display_name": "Python 3"
    },
    "language_info": {
      "name": "python"
    }
  },
  "cells": [
    {
      "cell_type": "markdown",
      "metadata": {
        "id": "view-in-github",
        "colab_type": "text"
      },
      "source": [
        "<a href=\"https://colab.research.google.com/github/assepwahid5/Struktur-Data/blob/main/2420506028_Strukdat_Hashing.ipynb\" target=\"_parent\"><img src=\"https://colab.research.google.com/assets/colab-badge.svg\" alt=\"Open In Colab\"/></a>"
      ]
    },
    {
      "cell_type": "code",
      "execution_count": 1,
      "metadata": {
        "colab": {
          "base_uri": "https://localhost:8080/"
        },
        "id": "yEcWOf6ZgPg8",
        "outputId": "d4c281cd-68a3-482e-d47c-3d335d06611f"
      },
      "outputs": [
        {
          "output_type": "stream",
          "name": "stdout",
          "text": [
            "Nilai untuk 'apel': 100\n",
            "Nilai untuk 'pisang': 200\n"
          ]
        }
      ],
      "source": [
        "class SimpleHashTable:\n",
        "    def __init__(self, size):\n",
        "        self.size = size\n",
        "        self.table = [None] * size\n",
        "\n",
        "    def hash_function(self, key):\n",
        "        return hash(key) % self.size\n",
        "\n",
        "    def insert(self, key, value):\n",
        "        index = self.hash_function(key)  # Tentukan indeks berdasarkan key\n",
        "        self.table[index] = value        # Simpan value di indeks tersebut\n",
        "\n",
        "    def search(self, key):   # Mencari nilai berdasarkan key\n",
        "        index = self.hash_function(key)  # Tentukan indeks berdasarkan key\n",
        "        return self.table[index]         # Kembalikan nilai pada indeks tersebut\n",
        "\n",
        "\n",
        "# Contoh penggunaan\n",
        "ht = SimpleHashTable(10)     # Membuat objek hash table dengan ukuran 10 slot\n",
        "ht.insert(\"apel\", 100)         # Menyisipkan key \"apel\" dengan nilai 100\n",
        "ht.insert(\"pisang\", 200)   # Menyisipkan key \"pisang\" dengan nilai 200\n",
        "\n",
        "# Mencetak hasil pencarian untuk key tertentu\n",
        "print(\"Nilai untuk 'apel':\", ht.search(\"apel\"))\n",
        "print(\"Nilai untuk 'pisang':\", ht.search(\"pisang\"))"
      ]
    },
    {
      "cell_type": "code",
      "source": [
        "class linearprobinghashtable:\n",
        "  def __init__(self,size):\n",
        "    self.size = size\n",
        "    self.table = [None] * size\n",
        "\n",
        "  def hash_function(self,key):\n",
        "    return hash(key) % self.size\n",
        "\n",
        "  def insert(self,key,value):\n",
        "    index = self.hash_function(key)\n",
        "    original_index = index\n",
        "\n",
        "    while self.table[index] is not None:\n",
        "      if self.table[index] [0] == key:\n",
        "        break\n",
        "      index = (index + 1) % self.size\n",
        "      if index == original_index:\n",
        "        raise Exception(\"hash table penuh\")\n",
        "\n",
        "    self.table[index] = (key, value)\n",
        "\n",
        "  def search(self, key):\n",
        "    index = self.hash_function(key)\n",
        "    original_index = index\n",
        "\n",
        "    while self.table[index] is not None:\n",
        "      if self.table[index][0] == key:\n",
        "        return self.table[index][1]\n",
        "      index = (index + 1) % self.size\n",
        "      if index == original_index:\n",
        "        break\n",
        "    return None\n",
        "\n",
        "# contoh penggunaan\n",
        "ht = linearprobinghashtable(5)\n",
        "ht.insert(\"apel\",100)\n",
        "ht.insert(\"pisang\", 200)\n",
        "ht.insert(\"melon\",300)\n",
        "\n",
        "print(\"Nilai untuk 'apel' :\", ht.search(\"apel\"))\n",
        "print(\"Nilai untuk 'melon' :\", ht.search(\"melon\"))"
      ],
      "metadata": {
        "colab": {
          "base_uri": "https://localhost:8080/"
        },
        "id": "UbW6iy4m-dIJ",
        "outputId": "ed8f3074-228a-4dce-bce7-24c2027941b7"
      },
      "execution_count": 2,
      "outputs": [
        {
          "output_type": "stream",
          "name": "stdout",
          "text": [
            "Nilai untuk 'apel' : 100\n",
            "Nilai untuk 'melon' : 300\n"
          ]
        }
      ]
    },
    {
      "cell_type": "code",
      "source": [
        "class chaininghashtable:\n",
        "  def __init__(self, size):\n",
        "    self.size = size\n",
        "    self.table = [[] for _ in range(size)]\n",
        "\n",
        "  def hash_function(self, key):\n",
        "    return hash(key) % self.size\n",
        "\n",
        "  def insert(self, key, value):\n",
        "    index = self.hash_function(key)\n",
        "    for i, (k,v) in enumerate(self.table[index]):\n",
        "      if k == key:\n",
        "        self.table[index][i] = (key,value)\n",
        "        return\n",
        "    self.table[index].append((key, value))\n",
        "\n",
        "  def search(self, key):\n",
        "    index = self.hash_function(key)\n",
        "    for k, v in self.table[index]:\n",
        "      if k == key:\n",
        "        return v\n",
        "    return None\n",
        "\n",
        "# contoh penggunaan\n",
        "ht = chaininghashtable(5)\n",
        "ht.insert(\"apel\", 100)\n",
        "ht.insert(\"pisang\", 200)\n",
        "ht.insert(\"melon\", 300)\n",
        "\n",
        "print(\"Nilai untuk 'apel' :\", ht.search(\"apel\"))\n",
        "print(\"Nilai untuk 'melon' :\",ht.search(\"melon\"))"
      ],
      "metadata": {
        "colab": {
          "base_uri": "https://localhost:8080/"
        },
        "id": "Izbv6yrIAKGT",
        "outputId": "46e61b27-5642-4da7-ffc9-d488e8f87b09"
      },
      "execution_count": 4,
      "outputs": [
        {
          "output_type": "stream",
          "name": "stdout",
          "text": [
            "Nilai untuk 'apel' : 100\n",
            "Nilai untuk 'melon' : 300\n"
          ]
        }
      ]
    }
  ]
}