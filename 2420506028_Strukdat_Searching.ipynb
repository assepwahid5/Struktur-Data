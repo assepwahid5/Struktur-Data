{
  "nbformat": 4,
  "nbformat_minor": 0,
  "metadata": {
    "colab": {
      "provenance": [],
      "authorship_tag": "ABX9TyOePGl5xketDKiUWlsKrsPm",
      "include_colab_link": true
    },
    "kernelspec": {
      "name": "python3",
      "display_name": "Python 3"
    },
    "language_info": {
      "name": "python"
    }
  },
  "cells": [
    {
      "cell_type": "markdown",
      "metadata": {
        "id": "view-in-github",
        "colab_type": "text"
      },
      "source": [
        "<a href=\"https://colab.research.google.com/github/assepwahid5/Struktur-Data/blob/main/2420506028_Strukdat_Searching.ipynb\" target=\"_parent\"><img src=\"https://colab.research.google.com/assets/colab-badge.svg\" alt=\"Open In Colab\"/></a>"
      ]
    },
    {
      "cell_type": "code",
      "source": [
        "def linear_search(arr,target):\n",
        "  for i in range (len(arr)):\n",
        "    if arr[i] == target:\n",
        "      return i\n",
        "  return -1\n",
        "# Gantikanlah dengan angka acak dan NPM anda\n",
        "arr = [23,12,13,45,65,24,28,34,30]\n",
        "target = int(input(\"Masukkan 2 digit terakhir NPM Anda:\"))\n",
        "result = linear_search(arr,target)\n",
        "if result != -1 :\n",
        "  print(f\"Elemen ditemukan pada indeks {result}\")\n",
        "else:\n",
        "  print(\"Elemen tidak ditemukan\")"
      ],
      "metadata": {
        "colab": {
          "base_uri": "https://localhost:8080/"
        },
        "id": "XkOIX3j5w6RM",
        "outputId": "f71c900e-18f0-4d48-de8d-206538ac0fbe"
      },
      "execution_count": null,
      "outputs": [
        {
          "output_type": "stream",
          "name": "stdout",
          "text": [
            "Masukkan 2 digit terakhir NPM Anda:28\n",
            "Elemen ditemukan pada indeks 6\n"
          ]
        }
      ]
    },
    {
      "cell_type": "code",
      "source": [
        "def binary_search(arr,target):\n",
        "  low = 0\n",
        "  high = len(arr) -1\n",
        "\n",
        "  while low <= high:\n",
        "    mid = (low + high) // 2\n",
        "    if arr[mid] == target:\n",
        "      return mid\n",
        "    elif arr[mid] < target:\n",
        "      low = mid + 1\n",
        "    else :\n",
        "      high = mid - 1\n",
        "  return -1\n",
        "# Gantikanlah dengan angka terurut\n",
        "arr = [311,1010,1202,1303,1405,1707,2508,3009,2412]\n",
        "target = int(input(\"Masukkan tanggal lahir anda (DDMM) : \"))\n",
        "result = binary_search(arr,target)\n",
        "if result != -1:\n",
        "  print(f\"Elemen ditemukan pada indeks {result}\")\n",
        "else :\n",
        "  print(\"Elemen tidak ditemukan\")"
      ],
      "metadata": {
        "colab": {
          "base_uri": "https://localhost:8080/"
        },
        "id": "K9Jxq3k-tLQ5",
        "outputId": "febbd8ca-dafa-4cd9-f07c-7c84c670f2f8"
      },
      "execution_count": 1,
      "outputs": [
        {
          "output_type": "stream",
          "name": "stdout",
          "text": [
            "Masukkan tanggal lahir anda (DDMM) : 1405\n",
            "Elemen ditemukan pada indeks 4\n"
          ]
        }
      ]
    },
    {
      "cell_type": "code",
      "source": [
        "import math\n",
        "def jump_search(arr,target):\n",
        "  n = len(arr)\n",
        "  step = int(math.sqrt(n))\n",
        "  prev = 0\n",
        "\n",
        "  while arr[min(step,n) - 1] < target:\n",
        "    prev = step\n",
        "    step += int(math.sqrt(n))\n",
        "    if prev >= n:\n",
        "      return -1\n",
        "  for i in range(prev,min(step,n)):\n",
        "    if arr[i] == target:\n",
        "      return i\n",
        "  return -1\n",
        "# Gantikanlah dengan daftar nama teman-teman anda dalam urutan alfabet\n",
        "arr = [\"Andam\",\"Bachtiar\",\"Camila\",\"Dini\",\"Ega\",\"Faris\",\"Gilang\",\"Hesty\"]\n",
        "target = input(\"Masukkan inisial nama Anda : \")\n",
        "\n",
        "result = jump_search(arr,target)\n",
        "if result != -1:\n",
        "  print(f\"Elemen ditemukan pada indeks {result}\")\n",
        "else :\n",
        "  print(\"Elemen tidak ditemukan\")\n"
      ],
      "metadata": {
        "id": "UXXaZJMrzkHM",
        "colab": {
          "base_uri": "https://localhost:8080/"
        },
        "outputId": "f8317de5-be16-48a1-de9c-2055d24f68ac"
      },
      "execution_count": null,
      "outputs": [
        {
          "output_type": "stream",
          "name": "stdout",
          "text": [
            "Masukkan inisial nama Anda : Dini\n",
            "Elemen ditemukan pada indeks 3\n"
          ]
        }
      ]
    },
    {
      "cell_type": "code",
      "source": [
        "import random\n",
        "import math\n",
        "\n",
        "# Fungsi untuk membuat daftar 100 angka acak yang diurutkan\n",
        "def generate_sorted_list():\n",
        "    return sorted(random.sample(range(1, 1001), 100))\n",
        "\n",
        "# Implementasi Linear Search\n",
        "def linear_search(arr, target):\n",
        "    comparisons = 0  # Menghitung jumlah perbandingan\n",
        "    for i in range(len(arr)):\n",
        "        comparisons += 1  # Setiap elemen dibandingkan\n",
        "        if arr[i] == target:  # Jika target ditemukan, kembalikan indeks dan jumlah perbandingan\n",
        "            return i, comparisons\n",
        "    return -1, comparisons  # Jika tidak ditemukan\n",
        "\n",
        "# Implementasi Binary Search\n",
        "def binary_search(arr, target):\n",
        "    left, right = 0, len(arr) - 1\n",
        "    comparisons = 0  # Menghitung jumlah perbandingan\n",
        "    while left <= right:\n",
        "        mid = (left + right) // 2  # Cari elemen tengah\n",
        "        comparisons += 1  # Setiap kali membandingkan elemen tengah\n",
        "        if arr[mid] == target:\n",
        "            return mid, comparisons  # Jika ditemukan, kembalikan indeks dan jumlah perbandingan\n",
        "        elif arr[mid] < target:\n",
        "            left = mid + 1  # Pindah ke bagian kanan jika target lebih besar\n",
        "        else:\n",
        "            right = mid - 1  # Pindah ke bagian kiri jika target lebih kecil\n",
        "    return -1, comparisons  # Jika tidak ditemukan\n",
        "\n",
        "# Implementasi Jump Search\n",
        "def jump_search(arr, target):\n",
        "    length = len(arr)\n",
        "    step = int(math.sqrt(length))  # Tentukan ukuran langkah lompat\n",
        "    prev, comparisons = 0, 0\n",
        "\n",
        "    # Lompat dalam blok hingga menemukan rentang yang mungkin mengandung target\n",
        "    while prev < length and arr[min(step, length) - 1] < target:\n",
        "        comparisons += 1  # Setiap lompatan dihitung sebagai perbandingan\n",
        "        prev = step\n",
        "        step += int(math.sqrt(length))\n",
        "        if prev >= length:\n",
        "            return -1, comparisons  # Jika melewati batas, target tidak ditemukan\n",
        "\n",
        "    # Gunakan Linear Search dalam blok yang ditemukan\n",
        "    for i in range(prev, min(step, length)):\n",
        "        comparisons += 1  # Setiap elemen dalam blok dibandingkan\n",
        "        if arr[i] == target:\n",
        "            return i, comparisons  # Jika ditemukan, kembalikan indeks dan jumlah perbandingan\n",
        "\n",
        "    return -1, comparisons  # Jika tidak ditemukan\n",
        "\n",
        "# Buat daftar angka yang sudah diurutkan\n",
        "data = generate_sorted_list()\n",
        "target = data[len(data) // 2]  # Pilih angka tengah sebagai target\n",
        "\n",
        "# Jalankan ketiga algoritma pencarian\n",
        "lin_idx, lin_comp = linear_search(data, target)\n",
        "bin_idx, bin_comp = binary_search(data, target)\n",
        "jump_idx, jump_comp = jump_search(data, target)\n",
        "\n",
        "# Cetak hasil pencarian\n",
        "print(\"Hasil Pencarian:\")\n",
        "print(f\"Linear Search - Index: {lin_idx}, Perbandingan: {lin_comp}\")\n",
        "print(f\"Binary Search - Index: {bin_idx}, Perbandingan: {bin_comp}\")\n",
        "print(f\"Jump Search - Index: {jump_idx}, Perbandingan: {jump_comp}\")"
      ],
      "metadata": {
        "colab": {
          "base_uri": "https://localhost:8080/"
        },
        "id": "-6vTSS_mIdUx",
        "outputId": "cb82d637-1885-4d16-a67e-36b863644b19"
      },
      "execution_count": 3,
      "outputs": [
        {
          "output_type": "stream",
          "name": "stdout",
          "text": [
            "Hasil Pencarian:\n",
            "Linear Search - Index: 50, Perbandingan: 51\n",
            "Binary Search - Index: 50, Perbandingan: 6\n",
            "Jump Search - Index: 50, Perbandingan: 6\n"
          ]
        }
      ]
    }
  ]
}